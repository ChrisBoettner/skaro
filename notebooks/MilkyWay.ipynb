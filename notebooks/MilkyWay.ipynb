{
 "cells": [
  {
   "cell_type": "markdown",
   "id": "e351a9ba-106d-4ccf-99ce-14a74b350674",
   "metadata": {},
   "source": [
    "## SETUP"
   ]
  },
  {
   "cell_type": "code",
   "execution_count": 1,
   "id": "c9b57a22-3aed-498e-8546-4f59add8330f",
   "metadata": {},
   "outputs": [],
   "source": [
    "from setup import setup"
   ]
  },
  {
   "cell_type": "code",
   "execution_count": 2,
   "id": "d2070f0b-0cd6-40ea-8c55-cd53bf9f7507",
   "metadata": {},
   "outputs": [],
   "source": [
    "snapshot = 127\n",
    "resolution = 4096\n",
    "sim_id = \"09_18\""
   ]
  },
  {
   "cell_type": "code",
   "execution_count": 3,
   "id": "afacb6d5-b673-47e9-abbf-9f91445f90f2",
   "metadata": {},
   "outputs": [
    {
     "name": "stderr",
     "output_type": "stream",
     "text": [
      "\n",
      "      DETECTED LOCAL MACHINE: Test snapshot loaded.\n",
      "\n",
      "yt : [INFO     ] 2023-06-05 12:14:04,417 Calculating time from 1.000e+00 to be 4.318e+17 seconds\n",
      "yt : [INFO     ] 2023-06-05 12:14:04,485 Parameters: current_time              = 4.318436660023809e+17 s\n",
      "yt : [INFO     ] 2023-06-05 12:14:04,486 Parameters: domain_dimensions         = [1 1 1]\n",
      "yt : [INFO     ] 2023-06-05 12:14:04,487 Parameters: domain_left_edge          = [0. 0. 0.]\n",
      "yt : [INFO     ] 2023-06-05 12:14:04,487 Parameters: domain_right_edge         = [100. 100. 100.]\n",
      "yt : [INFO     ] 2023-06-05 12:14:04,488 Parameters: cosmological_simulation   = 1\n",
      "yt : [INFO     ] 2023-06-05 12:14:04,488 Parameters: current_redshift          = 4.440892098500626e-16\n",
      "yt : [INFO     ] 2023-06-05 12:14:04,488 Parameters: omega_lambda              = 0.682\n",
      "yt : [INFO     ] 2023-06-05 12:14:04,489 Parameters: omega_matter              = 0.318\n",
      "yt : [INFO     ] 2023-06-05 12:14:04,489 Parameters: omega_radiation           = 0.0\n",
      "yt : [INFO     ] 2023-06-05 12:14:04,489 Parameters: hubble_constant           = 0.6777\n",
      "\n",
      "      TIMER: Block 'load data' took 0.12 seconds.\n",
      "\n",
      "yt : [INFO     ] 2023-06-05 12:14:04,699 Allocating for 1.920e+08 particles\n",
      "Loading particle index: 100%|███████████████| 245/245 [00:00<00:00, 3916.24it/s]\n",
      "\n",
      "      FIELDS: Overriding ('stars', 'stellar_age') field with ages in Gyr.\n",
      "\n",
      "\n",
      "      FIELDS: Adding field ('stars', 'InitialMass'), which is identical to('stars', 'GFM_InitialMass') but with units changed from 'dimensionless' to 'code_mass'.\n",
      "\n",
      "\n",
      "      TIMER: Block 'stars' took 1.09 seconds.\n",
      "\n",
      "\n",
      "      TIMER: Block 'planets' took 0.11 seconds.\n",
      "\n",
      "\n",
      "      TIMER: Block 'plot settings' took 0.0 seconds.\n",
      "\n"
     ]
    }
   ],
   "source": [
    "(\n",
    "    ds,\n",
    "    mw,\n",
    "    stellar_model,\n",
    "    imf,\n",
    "    planet_model,\n",
    "    gas_projection_dict,\n",
    "    particle_projection_dict,\n",
    ") = setup(snapshot, resolution, sim_id)"
   ]
  },
  {
   "cell_type": "markdown",
   "id": "ad4e4771-13c4-41b3-bf73-934064e26cb1",
   "metadata": {
    "tags": []
   },
   "source": [
    "## Metallicity"
   ]
  },
  {
   "cell_type": "markdown",
   "id": "8af39008-411c-4d38-9000-5c9d2a304685",
   "metadata": {
    "tags": []
   },
   "source": [
    "### Maps"
   ]
  },
  {
   "cell_type": "code",
   "execution_count": 4,
   "id": "9e4fc907-2997-467c-9aa6-5bdf9581a550",
   "metadata": {},
   "outputs": [
    {
     "ename": "NameError",
     "evalue": "name 'yt' is not defined",
     "output_type": "error",
     "traceback": [
      "\u001b[0;31m---------------------------------------------------------------------------\u001b[0m",
      "\u001b[0;31mNameError\u001b[0m                                 Traceback (most recent call last)",
      "Cell \u001b[0;32mIn[4], line 2\u001b[0m\n\u001b[1;32m      1\u001b[0m \u001b[38;5;66;03m# gas density-weighted gas metallicity\u001b[39;00m\n\u001b[0;32m----> 2\u001b[0m plot \u001b[38;5;241m=\u001b[39m \u001b[43myt\u001b[49m\u001b[38;5;241m.\u001b[39mProjectionPlot(\n\u001b[1;32m      3\u001b[0m     fields\u001b[38;5;241m=\u001b[39m(\u001b[38;5;124m\"\u001b[39m\u001b[38;5;124mgas\u001b[39m\u001b[38;5;124m\"\u001b[39m, \u001b[38;5;124m\"\u001b[39m\u001b[38;5;124mmetallicity\u001b[39m\u001b[38;5;124m\"\u001b[39m),\n\u001b[1;32m      4\u001b[0m     weight_field\u001b[38;5;241m=\u001b[39m(\u001b[38;5;124m\"\u001b[39m\u001b[38;5;124mgas\u001b[39m\u001b[38;5;124m\"\u001b[39m, \u001b[38;5;124m\"\u001b[39m\u001b[38;5;124mdensity\u001b[39m\u001b[38;5;124m\"\u001b[39m),\n\u001b[1;32m      5\u001b[0m     \u001b[38;5;241m*\u001b[39m\u001b[38;5;241m*\u001b[39mgas_projection_dict,\n\u001b[1;32m      6\u001b[0m )\n\u001b[1;32m      8\u001b[0m plot\u001b[38;5;241m.\u001b[39mset_unit((\u001b[38;5;124m\"\u001b[39m\u001b[38;5;124mgas\u001b[39m\u001b[38;5;124m\"\u001b[39m, \u001b[38;5;124m\"\u001b[39m\u001b[38;5;124mmetallicity\u001b[39m\u001b[38;5;124m\"\u001b[39m), \u001b[38;5;124m\"\u001b[39m\u001b[38;5;124mZsun\u001b[39m\u001b[38;5;124m\"\u001b[39m)\n\u001b[1;32m      9\u001b[0m plot\u001b[38;5;241m.\u001b[39mset_log((\u001b[38;5;124m\"\u001b[39m\u001b[38;5;124mgas\u001b[39m\u001b[38;5;124m\"\u001b[39m, \u001b[38;5;124m\"\u001b[39m\u001b[38;5;124mmetallicity\u001b[39m\u001b[38;5;124m\"\u001b[39m), \u001b[38;5;28;01mFalse\u001b[39;00m)\n",
      "\u001b[0;31mNameError\u001b[0m: name 'yt' is not defined"
     ]
    }
   ],
   "source": [
    "# gas density-weighted gas metallicity\n",
    "plot = yt.ProjectionPlot(\n",
    "    fields=(\"gas\", \"metallicity\"),\n",
    "    weight_field=(\"gas\", \"density\"),\n",
    "    **gas_projection_dict,\n",
    ")\n",
    "\n",
    "plot.set_unit((\"gas\", \"metallicity\"), \"Zsun\")\n",
    "plot.set_log((\"gas\", \"metallicity\"), False)"
   ]
  },
  {
   "cell_type": "code",
   "execution_count": null,
   "id": "de79ae49-6cc2-488c-8980-6552d00b2021",
   "metadata": {},
   "outputs": [],
   "source": [
    "# average stellar metallicities\n",
    "plot = yt.ParticleProjectionPlot(\n",
    "    fields=(\"stars\", \"metallicity\"),\n",
    "    weight_field=(\"stars\", \"Masses\"),\n",
    "    **particle_projection_dict,\n",
    ")\n",
    "plot.set_unit((\"stars\", \"metallicity\"), \"Zsun\")\n",
    "plot.set_log((\"stars\", \"metallicity\"), False)\n",
    "plot.set_zlim((\"stars\", \"metallicity\"), zmin=(0, \"Zsun\"), zmax=(6, \"Zsun\"))"
   ]
  },
  {
   "cell_type": "markdown",
   "id": "a6195516-479f-44f7-a626-97238ac56539",
   "metadata": {},
   "source": [
    "### Profiles"
   ]
  },
  {
   "cell_type": "code",
   "execution_count": null,
   "id": "e76d2138-bbd8-457e-b383-94a60095ec8e",
   "metadata": {},
   "outputs": [],
   "source": [
    "# density-weighted gas metallicity\n",
    "gas_profile = yt.create_profile(\n",
    "    data_source=mw.disk(radius=ds.quan(20, \"kpc\")),\n",
    "    bin_fields=[(\"gas\", \"radius\")],\n",
    "    fields=[(\"gas\", \"metallicity\")],\n",
    "    n_bins=100,\n",
    "    units={(\"gas\", \"radius\"): \"kpc\", (\"gas\", \"metallicity\"): \"Zsun\"},\n",
    "    weight_field=(\"gas\", \"density\"),\n",
    ")\n",
    "\n",
    "plot = yt.ProfilePlot.from_profiles(gas_profile)\n",
    "plot.set_log((\"gas\", \"radius\"), False)\n",
    "plot.set_log((\"gas\", \"metallicity\"), False)\n",
    "plot.set_ylim((\"gas\", \"metallicity\"), 0.5, 6)"
   ]
  },
  {
   "cell_type": "code",
   "execution_count": null,
   "id": "f0cffc6a-c294-4ea4-b224-db66c872ca01",
   "metadata": {},
   "outputs": [],
   "source": [
    "# average stellar metallicity profile\n",
    "star_profile = yt.create_profile(\n",
    "    data_source=mw.disk(radius=ds.quan(20, \"kpc\")),\n",
    "    bin_fields=[(\"stars\", \"particle_radius\")],\n",
    "    fields=[(\"stars\", \"metallicity\")],\n",
    "    n_bins=100,\n",
    "    units={(\"stars\", \"particle_radius\"): \"kpc\", (\"stars\", \"metallicity\"): \"Zsun\"},\n",
    "    weight_field=(\"stars\", \"Masses\"),\n",
    ")\n",
    "\n",
    "plot = yt.ProfilePlot.from_profiles(star_profile)\n",
    "plot.set_log((\"stars\", \"particle_radius\"), False)\n",
    "plot.set_log((\"stars\", \"metallicity\"), False)\n",
    "plot.set_ylim((\"stars\", \"metallicity\"), 0.5, 3)"
   ]
  },
  {
   "cell_type": "code",
   "execution_count": null,
   "id": "d38f4ca0-53fa-406d-b5c6-22e3ed030010",
   "metadata": {},
   "outputs": [],
   "source": [
    "# metallicity histogram - galactic center\n",
    "fig, ax = plt.subplots(figsize=(10, 8))\n",
    "ax.hist(\n",
    "    mw.sphere(radius=ds.quan(0.5, \"kpc\"))[\"gas\", \"metallicity\"].to(\"Zsun\").value,\n",
    "    density=True,\n",
    "    bins=\"fd\",\n",
    "    label=\"gas\",\n",
    "    alpha=0.5,\n",
    ")\n",
    "ax.hist(\n",
    "    mw.sphere(radius=ds.quan(0.5, \"kpc\"))[\"stars\", \"metallicity\"].to(\"Zsun\").value,\n",
    "    density=True,\n",
    "    bins=\"fd\",\n",
    "    label=\"stars\",\n",
    "    alpha=0.5,\n",
    ")\n",
    "ax.set_xlabel(\"Metallicity in solar metallicities\")\n",
    "ax.set_ylabel(\"Normalized Count\")\n",
    "ax.set_title(\"Metallicity in the galactic center (r = 0.5 kpc)\")\n",
    "ax.legend()"
   ]
  },
  {
   "cell_type": "code",
   "execution_count": null,
   "id": "65e51ebd-5f5d-4203-8a3b-32db3d099c83",
   "metadata": {},
   "outputs": [],
   "source": [
    "# metallicity histogram - 20kpc\n",
    "fig, ax = plt.subplots(figsize=(10, 8))\n",
    "ax.hist(\n",
    "    mw.sphere(radius=ds.quan(20, \"kpc\"))[\"gas\", \"metallicity\"].to(\"Zsun\").value,\n",
    "    density=True,\n",
    "    bins=\"fd\",\n",
    "    label=\"gas\",\n",
    "    alpha=0.5,\n",
    ")\n",
    "ax.hist(\n",
    "    mw.sphere(radius=ds.quan(20, \"kpc\"))[\"stars\", \"metallicity\"].to(\"Zsun\").value,\n",
    "    density=True,\n",
    "    bins=\"fd\",\n",
    "    label=\"stars\",\n",
    "    alpha=0.5,\n",
    ")\n",
    "ax.set_xlabel(\"Metallicity in solar metallicities\")\n",
    "ax.set_ylabel(\"Normalized Count\")\n",
    "ax.set_title(\"Metallicity in the galaxy (r = 20 kpc)\")\n",
    "ax.legend()"
   ]
  },
  {
   "cell_type": "markdown",
   "id": "319433ed-6a9e-4949-a90e-54721f4fc6b7",
   "metadata": {},
   "source": [
    "## Stellar Age"
   ]
  },
  {
   "cell_type": "code",
   "execution_count": null,
   "id": "e7b2b8ef-14cb-4ecd-af2c-136b786c0e30",
   "metadata": {},
   "outputs": [],
   "source": [
    "# average stellar metallicities\n",
    "plot = yt.ParticleProjectionPlot(\n",
    "    fields=(\"stars\", \"stellar_age\"),\n",
    "    weight_field=(\"stars\", \"Masses\"),\n",
    "    **particle_projection_dict,\n",
    ")\n",
    "# plot.set_unit((\"PartType4\", \"stellar_age\"), \"Gyr\")\n",
    "plot.set_log((\"stars\", \"stellar_age\"), False)\n",
    "# plot.set_zlim((\"PartType4\", \"metallicity\"), zmin=(0, \"Zsun\"), zmax=(6, \"Zsun\"))"
   ]
  },
  {
   "cell_type": "code",
   "execution_count": null,
   "id": "06cb7aa9-5570-4d6b-ad0f-07e6244eae27",
   "metadata": {},
   "outputs": [],
   "source": [
    "# average stellar age profile\n",
    "star_profile = yt.create_profile(\n",
    "    data_source=mw.disk(radius=ds.quan(20, \"kpc\")),\n",
    "    bin_fields=[(\"stars\", \"particle_radius\")],\n",
    "    fields=[(\"stars\", \"stellar_age\")],\n",
    "    n_bins=100,\n",
    "    units={(\"stars\", \"particle_radius\"): \"kpc\", (\"stars\", \"stellar_age\"): \"Gyr\"},\n",
    "    weight_field=(\"stars\", \"Masses\"),\n",
    ")\n",
    "\n",
    "plot = yt.ProfilePlot.from_profiles(star_profile)\n",
    "plot.set_log((\"stars\", \"particle_radius\"), False)\n",
    "plot.set_log((\"stars\", \"stellar_age\"), False)"
   ]
  },
  {
   "cell_type": "markdown",
   "id": "c02b1213-d1aa-4212-969d-4b14c7370d7d",
   "metadata": {},
   "source": [
    "## Planets"
   ]
  },
  {
   "cell_type": "code",
   "execution_count": null,
   "id": "6b77e2fa-e4d4-4c07-8c67-7fe5c3f22f50",
   "metadata": {},
   "outputs": [],
   "source": [
    "# planet profile\n",
    "planet_profile = yt.create_profile(\n",
    "    data_source=mw.disk(radius=ds.quan(20, \"kpc\")),\n",
    "    bin_fields=[(\"stars\", \"particle_radius\")],\n",
    "    fields=[(\"stars\", \"planets\")],\n",
    "    n_bins=100,\n",
    "    units={(\"stars\", \"particle_radius\"): \"kpc\"},\n",
    "    weight_field=None,\n",
    ")\n",
    "\n",
    "\n",
    "# plot = yt.ProfilePlot.from_profiles(planet_profile)\n",
    "# plot.set_log(('stars', 'particle_radius'), False)\n",
    "# plot.set_log(('stars','planets'), False)\n",
    "# plot.set_ylim(('stars','metallicity'),0.5, 3)\n",
    "# show_or_save(plot, mode)"
   ]
  },
  {
   "cell_type": "code",
   "execution_count": null,
   "id": "ee81c55a-6564-45d9-b86b-a3a245bcbab0",
   "metadata": {},
   "outputs": [],
   "source": [
    "# mass-weighted planet profile\n",
    "planet_profile = yt.create_profile(\n",
    "    data_source=mw.disk(radius=ds.quan(20, \"kpc\")),\n",
    "    bin_fields=[(\"stars\", \"particle_radius\")],\n",
    "    fields=[(\"stars\", \"planets\")],\n",
    "    n_bins=100,\n",
    "    units={(\"stars\", \"particle_radius\"): \"kpc\"},\n",
    "    weight_field=(\"stars\", \"Masses\"),\n",
    ")\n",
    "\n",
    "plot = yt.ProfilePlot.from_profiles(planet_profile)\n",
    "plot.set_log((\"stars\", \"particle_radius\"), False)\n",
    "plot.set_log((\"stars\", \"planets\"), False)\n",
    "show_or_save(plot, mode)"
   ]
  },
  {
   "cell_type": "code",
   "execution_count": null,
   "id": "1a6a00f8-cda0-4674-833e-9ae79eae5150",
   "metadata": {},
   "outputs": [],
   "source": [
    "plot = yt.ParticleProjectionPlot(\n",
    "    fields=(\"stars\", \"planets\"),\n",
    "    weight_field=(\"stars\", \"main_sequence_stars\"),\n",
    "    **particle_projection_dict,\n",
    ")"
   ]
  },
  {
   "cell_type": "code",
   "execution_count": null,
   "id": "8070bbb6-c48a-46de-8ed9-2ddaeac3d1bb",
   "metadata": {},
   "outputs": [],
   "source": [
    "plot.set_log((\"stars\", \"planets\"), False)\n",
    "plot.set_zlim((\"stars\", \"planets\"), zmin=(10000, \"\"), zmax=(300000, \"\"))\n",
    "plot.show()"
   ]
  },
  {
   "cell_type": "code",
   "execution_count": null,
   "id": "49ff40dc-7864-4c3c-9d8b-0b6b2cb3aeb0",
   "metadata": {},
   "outputs": [],
   "source": [
    "def _av_p(field, data):\n",
    "    return data[\"stars\", \"planets\"] / data[\"stars\", \"main_sequence_stars\"]\n",
    "\n",
    "\n",
    "ds.add_field((\"stars\", \"av_p\"), function=_av_p, sampling_type=\"local\", units=\"\")"
   ]
  },
  {
   "cell_type": "code",
   "execution_count": null,
   "id": "c9cb436f-8785-47ce-89df-21c394024626",
   "metadata": {},
   "outputs": [],
   "source": [
    "plot = yt.ParticleProjectionPlot(\n",
    "    fields=(\"stars\", \"av_p\"),\n",
    "    weight_field=(\"stars\", \"particle_ones\"),\n",
    "    **particle_projection_dict,\n",
    ")"
   ]
  },
  {
   "cell_type": "code",
   "execution_count": null,
   "id": "bf7d2fe5-31a2-4232-bc65-2649d1f99c8b",
   "metadata": {},
   "outputs": [],
   "source": [
    "plot.set_log((\"stars\", \"av_p\"), False)\n",
    "plot.set_zlim((\"stars\", \"av_p\"), zmin=(0.3, \"\"), zmax=(0.5, \"\"))\n",
    "plot.show()"
   ]
  },
  {
   "cell_type": "code",
   "execution_count": null,
   "id": "9e5ab3f3-71d4-4fbf-9977-7e526547cb8e",
   "metadata": {},
   "outputs": [],
   "source": []
  }
 ],
 "metadata": {
  "kernelspec": {
   "display_name": "Python 3 (ipykernel)",
   "language": "python",
   "name": "python3"
  },
  "language_info": {
   "codemirror_mode": {
    "name": "ipython",
    "version": 3
   },
   "file_extension": ".py",
   "mimetype": "text/x-python",
   "name": "python",
   "nbconvert_exporter": "python",
   "pygments_lexer": "ipython3",
   "version": "3.10.8"
  }
 },
 "nbformat": 4,
 "nbformat_minor": 5
}
