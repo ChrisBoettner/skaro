{
 "cells": [
  {
   "cell_type": "code",
   "execution_count": 1,
   "id": "d63901ce-0160-47ab-9fab-e746e1fbc44f",
   "metadata": {},
   "outputs": [],
   "source": [
    "%load_ext autoreload\n",
    "%autoreload 2\n",
    "%matplotlib inline"
   ]
  },
  {
   "cell_type": "code",
   "execution_count": 2,
   "id": "e4e268e6-5954-49e0-b6bd-94ce23d88e34",
   "metadata": {},
   "outputs": [],
   "source": [
    "# load local version of gallifrey, before pip installed version, for debugging\n",
    "import pathlib\n",
    "import sys\n",
    "import os\n",
    "\n",
    "sys.path.append(str(pathlib.Path(os.getcwd()).parent.joinpath(\"src\")))"
   ]
  },
  {
   "cell_type": "code",
   "execution_count": 3,
   "id": "2c80ccda-809a-4526-9ba6-1d62124a2fdd",
   "metadata": {},
   "outputs": [],
   "source": [
    "import yt\n",
    "import numpy as np\n",
    "import pandas as pd\n",
    "import matplotlib.pyplot as plt\n",
    "import seaborn as sns\n",
    "\n",
    "from gallifrey.model import Model\n",
    "from gallifrey.analysis import count_planets\n",
    "from gallifrey.utilities.math import calculate_pca\n",
    "from gallifrey.utilities.dataframe import (\n",
    "    aggregated_dataframe,\n",
    "    rename_labels,\n",
    ")\n",
    "from gallifrey.visualization.visualization_utils import (\n",
    "    set_plot_defaults,\n",
    "    get_palette,\n",
    "    FigureProcessor,\n",
    "    adjust_legend,\n",
    "    ridgeplot,\n",
    ")"
   ]
  },
  {
   "cell_type": "markdown",
   "id": "4d25d0db-24c5-47b7-b3fe-97bb8da1f7be",
   "metadata": {},
   "source": [
    "## DATA SETUP"
   ]
  },
  {
   "cell_type": "code",
   "execution_count": 4,
   "id": "597e98bd-d2ed-427b-bc67-ac0ab427b29b",
   "metadata": {},
   "outputs": [],
   "source": [
    "snapshot = 127\n",
    "resolution = 8192\n",
    "sim_id = \"37_11\"\n",
    "num_embryos = 50\n",
    "host_star_masses = 1\n",
    "planet_categories = [\n",
    "    \"Earth\",\n",
    "    \"Super-Earth\",\n",
    "    \"Neptunian\",\n",
    "    \"Sub-Giant\",\n",
    "    \"Giant\",\n",
    "]"
   ]
  },
  {
   "cell_type": "code",
   "execution_count": 5,
   "id": "7a1ba7f2-9f0f-4707-96dc-8d10c262d3bb",
   "metadata": {},
   "outputs": [
    {
     "name": "stderr",
     "output_type": "stream",
     "text": [
      "\n",
      "      DETECTED LOCAL MACHINE: Test snapshot loaded.\n",
      "\n",
      "\n",
      "      CONFIG: Setting resolution to 4096.\n",
      "\n",
      "\n",
      "      CONFIG: Setting sim_id to 09_18.\n",
      "\n",
      "yt : [INFO     ] 2023-10-23 20:36:04,173 Calculating time from 1.000e+00 to be 4.318e+17 seconds\n",
      "yt : [INFO     ] 2023-10-23 20:36:04,231 Parameters: current_time              = 4.318436660023809e+17 s\n",
      "yt : [INFO     ] 2023-10-23 20:36:04,232 Parameters: domain_dimensions         = [1 1 1]\n",
      "yt : [INFO     ] 2023-10-23 20:36:04,232 Parameters: domain_left_edge          = [0. 0. 0.]\n",
      "yt : [INFO     ] 2023-10-23 20:36:04,232 Parameters: domain_right_edge         = [100. 100. 100.]\n",
      "yt : [INFO     ] 2023-10-23 20:36:04,233 Parameters: cosmological_simulation   = 1\n",
      "yt : [INFO     ] 2023-10-23 20:36:04,233 Parameters: current_redshift          = 4.440892098500626e-16\n",
      "yt : [INFO     ] 2023-10-23 20:36:04,233 Parameters: omega_lambda              = 0.682\n",
      "yt : [INFO     ] 2023-10-23 20:36:04,234 Parameters: omega_matter              = 0.318\n",
      "yt : [INFO     ] 2023-10-23 20:36:04,234 Parameters: omega_radiation           = 0.0\n",
      "yt : [INFO     ] 2023-10-23 20:36:04,234 Parameters: hubble_constant           = 0.6777\n",
      "\n",
      "      TIMER: Block 'Loading Hestia Snapshot...' took 0.1 seconds.\n",
      "\n",
      "\n",
      "      FIELDS: Adding field ('PartType4', 'stellar_age') field with ages in Gyr.\n",
      "\n",
      "yt : [INFO     ] 2023-10-23 20:36:04,488 Allocating for 1.92e+08 particles\n",
      "Loading particle index: 100%|███████████████| 245/245 [00:00<00:00, 1983.27it/s]\n",
      "\n",
      "      FIELDS: Adding field ('PartType4', 'InitialMass'), with masses in  'code_mass'.\n",
      "\n",
      "\n",
      "      STARS: 'stars' field derives from PartType4 field in age range: [0.02, inf] Gyr.\n",
      "\n",
      "\n",
      "      TIMER: Block 'Adding Stars...' took 0.48 seconds.\n",
      "\n",
      "\n",
      "      TIMER: Block 'Adding Planets...' took 1.05 seconds.\n",
      "\n",
      "\n",
      "      TIMER: Block 'Loading Particle IDs...' took 0.18 seconds.\n",
      "\n",
      "\n",
      "      DECOMPOSITION: Loading decomposition file.\n",
      "\n",
      "\n",
      "      TIMER: Block 'Galaxy Decomposition...' took 0.09 seconds.\n",
      "\n"
     ]
    }
   ],
   "source": [
    "model = Model(\n",
    "    snapshot=snapshot,\n",
    "    resolution=resolution,\n",
    "    sim_id=sim_id,\n",
    ")\n",
    "ds = model.ds\n",
    "mw = model.halo"
   ]
  },
  {
   "cell_type": "markdown",
   "id": "89834d65-db51-456d-a9ee-0d8278a65d78",
   "metadata": {},
   "source": [
    "## PLOT SETUP"
   ]
  },
  {
   "cell_type": "code",
   "execution_count": 6,
   "id": "4d01a404-c459-4a0e-8030-bb55d7b2ad78",
   "metadata": {},
   "outputs": [],
   "source": [
    "set_plot_defaults()\n",
    "\n",
    "figure_subdirectory = f\"MilkyWayAnalogue/{model.resolution}/{model.sim_id}/{model.snapshot}/Planet_numbers\"\n",
    "save = True"
   ]
  },
  {
   "cell_type": "markdown",
   "id": "f8806840-4292-4295-a3ce-5e818e629a3e",
   "metadata": {},
   "source": [
    "## CREATE DATA SOURCE"
   ]
  },
  {
   "cell_type": "code",
   "execution_count": 7,
   "id": "98a5bf55-3010-47ab-86da-c792180081ba",
   "metadata": {},
   "outputs": [],
   "source": [
    "radius = 0.2 * mw.virial_radius()"
   ]
  },
  {
   "cell_type": "markdown",
   "id": "145ff86c-66ab-494d-a8d6-ea33d7a5d7f9",
   "metadata": {},
   "source": [
    "## ABSOLUTE NUMBER PER PLANET TYPE"
   ]
  },
  {
   "cell_type": "code",
   "execution_count": 8,
   "id": "06916909-9053-436f-957c-3bf38ed81323",
   "metadata": {},
   "outputs": [],
   "source": [
    "def aggregate_planet_counts_for_embryos(host_star_mass, embryo_list):\n",
    "    counts_by_embryos = {\n",
    "        num_embryos: count_planets(model = model,\n",
    "                                   data_creator = lambda: mw.sphere(radius=radius),\n",
    "                                   planet_categories = planet_categories,\n",
    "                                   model_config = {\"ngpps_star_masses\": host_star_mass, \"ngpps_num_embryos\":num_embryos},\n",
    "                                   components=\"stars\")\n",
    "        for num_embryos in embryo_list\n",
    "    }\n",
    "    counts_dataframe = pd.concat(counts_by_embryos).reset_index(level=1, drop=True)\n",
    "    return counts_dataframe.rename_axis(r\"$N_\\mathrm{Embryos}$\")"
   ]
  },
  {
   "cell_type": "code",
   "execution_count": 9,
   "id": "d6ca690d-e0c5-4a70-b0f1-13c866f08658",
   "metadata": {},
   "outputs": [
    {
     "name": "stderr",
     "output_type": "stream",
     "text": [
      "\n",
      "      CONFIG: Setting ngpps_num_embryos to 10.\n",
      "\n",
      "\n",
      "      TIMER: Block 'Adding Planets...' took 0.73 seconds.\n",
      "\n",
      "\n",
      "      CONFIG: Setting ngpps_num_embryos to 20.\n",
      "\n",
      "\n",
      "      TIMER: Block 'Adding Planets...' took 0.71 seconds.\n",
      "\n",
      "\n",
      "      CONFIG: Setting ngpps_num_embryos to 50.\n",
      "\n",
      "\n",
      "      TIMER: Block 'Adding Planets...' took 1.12 seconds.\n",
      "\n",
      "\n",
      "      CONFIG: Setting ngpps_num_embryos to 100.\n",
      "\n",
      "\n",
      "      TIMER: Block 'Adding Planets...' took 1.24 seconds.\n",
      "\n"
     ]
    }
   ],
   "source": [
    "embryo_list = (10, 20, 50, 100)\n",
    "\n",
    "planet_counts = aggregate_planet_counts_for_embryos(\n",
    "    host_star_mass=1, embryo_list=embryo_list\n",
    ")"
   ]
  }
 ],
 "metadata": {
  "kernelspec": {
   "display_name": "Python 3 (ipykernel)",
   "language": "python",
   "name": "python3"
  },
  "language_info": {
   "codemirror_mode": {
    "name": "ipython",
    "version": 3
   },
   "file_extension": ".py",
   "mimetype": "text/x-python",
   "name": "python",
   "nbconvert_exporter": "python",
   "pygments_lexer": "ipython3",
   "version": "3.10.12"
  }
 },
 "nbformat": 4,
 "nbformat_minor": 5
}
