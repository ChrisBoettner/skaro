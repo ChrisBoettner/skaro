{
 "cells": [
  {
   "cell_type": "code",
   "execution_count": 1,
   "id": "d63901ce-0160-47ab-9fab-e746e1fbc44f",
   "metadata": {},
   "outputs": [],
   "source": [
    "%load_ext autoreload\n",
    "%autoreload 2\n",
    "%matplotlib inline"
   ]
  },
  {
   "cell_type": "code",
   "execution_count": 2,
   "id": "e4e268e6-5954-49e0-b6bd-94ce23d88e34",
   "metadata": {},
   "outputs": [],
   "source": [
    "# load local version of skaro, before pip installed version, for debugging\n",
    "import pathlib\n",
    "import sys\n",
    "import os\n",
    "\n",
    "sys.path.append(str(pathlib.Path(os.getcwd()).parent.joinpath(\"src\")))"
   ]
  },
  {
   "cell_type": "code",
   "execution_count": 3,
   "id": "2c80ccda-809a-4526-9ba6-1d62124a2fdd",
   "metadata": {},
   "outputs": [],
   "source": [
    "import matplotlib.pyplot as plt\n",
    "import numpy as np\n",
    "import pandas as pd\n",
    "import seaborn as sns\n",
    "import yt\n",
    "\n",
    "from skaro.analysis import count_planets\n",
    "from skaro.model import Model\n",
    "from skaro.utilities.dataframe import rename_labels\n",
    "from skaro.utilities.math import calculate_pca\n",
    "from skaro.visualization.visualization_utils import (\n",
    "    FigureProcessor,\n",
    "    adjust_legend,\n",
    "    get_palette,\n",
    "    ridgeplot,\n",
    "    set_plot_defaults,\n",
    ")"
   ]
  },
  {
   "cell_type": "markdown",
   "id": "4d25d0db-24c5-47b7-b3fe-97bb8da1f7be",
   "metadata": {},
   "source": [
    "## DATA SETUP"
   ]
  },
  {
   "cell_type": "code",
   "execution_count": 4,
   "id": "597e98bd-d2ed-427b-bc67-ac0ab427b29b",
   "metadata": {},
   "outputs": [],
   "source": [
    "snapshot = 127\n",
    "resolution = 8192\n",
    "sim_id = \"37_11\"\n",
    "num_embryos = 50\n",
    "host_star_masses = 1\n",
    "planet_categories = [\n",
    "    \"Earth\",\n",
    "    \"Super-Earth\",\n",
    "    \"Neptunian\",\n",
    "    \"Sub-Giant\",\n",
    "    \"Giant\",\n",
    "]"
   ]
  },
  {
   "cell_type": "code",
   "execution_count": 5,
   "id": "7a1ba7f2-9f0f-4707-96dc-8d10c262d3bb",
   "metadata": {},
   "outputs": [
    {
     "name": "stderr",
     "output_type": "stream",
     "text": [
      "yt : [INFO     ] 2023-11-25 17:40:56,664 Calculating time from 1.000e+00 to be 4.318e+17 seconds\n",
      "yt : [INFO     ] 2023-11-25 17:40:56,818 Parameters: current_time              = 4.318436660023809e+17 s\n",
      "yt : [INFO     ] 2023-11-25 17:40:56,819 Parameters: domain_dimensions         = [1 1 1]\n",
      "yt : [INFO     ] 2023-11-25 17:40:56,820 Parameters: domain_left_edge          = [0. 0. 0.]\n",
      "yt : [INFO     ] 2023-11-25 17:40:56,821 Parameters: domain_right_edge         = [100. 100. 100.]\n",
      "yt : [INFO     ] 2023-11-25 17:40:56,822 Parameters: cosmological_simulation   = 1\n",
      "yt : [INFO     ] 2023-11-25 17:40:56,823 Parameters: current_redshift          = 4.440892098500626e-16\n",
      "yt : [INFO     ] 2023-11-25 17:40:56,824 Parameters: omega_lambda              = 0.682\n",
      "yt : [INFO     ] 2023-11-25 17:40:56,825 Parameters: omega_matter              = 0.318\n",
      "yt : [INFO     ] 2023-11-25 17:40:56,825 Parameters: omega_radiation           = 0.0\n",
      "yt : [INFO     ] 2023-11-25 17:40:56,826 Parameters: hubble_constant           = 0.6777\n",
      "\n",
      "      TIMER: Block 'Loading Hestia Snapshot...' took 0.33 seconds.\n",
      "\n",
      "\n",
      "      FIELDS: Adding field ('PartType4', 'stellar_age') field with ages in Gyr.\n",
      "\n",
      "yt : [INFO     ] 2023-11-25 17:40:58,335 Allocating for 4.654e+08 particles\n",
      "Loading particle index: 100%|██████████| 587/587 [00:00<00:00, 1263.67it/s]\n",
      "\n",
      "      FIELDS: Adding field ('PartType4', 'InitialMass'), with masses in  'code_mass'.\n",
      "\n",
      "\n",
      "      STARS: 'stars' field derives from PartType4 field in age range: [0.02, inf] Gyr.\n",
      "\n",
      "\n",
      "      TIMER: Block 'Adding Stars...' took 5.2 seconds.\n",
      "\n",
      "\n",
      "      TIMER: Block 'Adding Planets...' took 3.3 seconds.\n",
      "\n",
      "\n",
      "      TIMER: Block 'Loading Particle IDs...' took 1.44 seconds.\n",
      "\n",
      "\n",
      "      DECOMPOSITION: Loading decomposition file.\n",
      "\n",
      "\n",
      "      TIMER: Block 'Galaxy Decomposition...' took 0.6 seconds.\n",
      "\n"
     ]
    }
   ],
   "source": [
    "model = Model(\n",
    "    snapshot=snapshot,\n",
    "    resolution=resolution,\n",
    "    sim_id=sim_id,\n",
    ")\n",
    "ds = model.ds\n",
    "mw = model.halo"
   ]
  },
  {
   "cell_type": "markdown",
   "id": "89834d65-db51-456d-a9ee-0d8278a65d78",
   "metadata": {},
   "source": [
    "## PLOT SETUP"
   ]
  },
  {
   "cell_type": "code",
   "execution_count": 6,
   "id": "4d01a404-c459-4a0e-8030-bb55d7b2ad78",
   "metadata": {},
   "outputs": [],
   "source": [
    "set_plot_defaults()\n",
    "\n",
    "figure_subdirectory = f\"MilkyWayAnalogue/{model.resolution}/{model.sim_id}/{model.snapshot}/Planet_numbers\"\n",
    "save = True"
   ]
  },
  {
   "cell_type": "markdown",
   "id": "f8806840-4292-4295-a3ce-5e818e629a3e",
   "metadata": {},
   "source": [
    "## CREATE DATA SOURCE"
   ]
  },
  {
   "cell_type": "code",
   "execution_count": 7,
   "id": "98a5bf55-3010-47ab-86da-c792180081ba",
   "metadata": {},
   "outputs": [],
   "source": [
    "radius = 0.2 * mw.virial_radius()"
   ]
  },
  {
   "cell_type": "markdown",
   "id": "145ff86c-66ab-494d-a8d6-ea33d7a5d7f9",
   "metadata": {},
   "source": [
    "## ABSOLUTE NUMBER PER PLANET TYPE"
   ]
  },
  {
   "cell_type": "code",
   "execution_count": 8,
   "id": "06916909-9053-436f-957c-3bf38ed81323",
   "metadata": {},
   "outputs": [],
   "source": [
    "def aggregate_planet_counts_for_embryos(host_star_mass, embryo_list):\n",
    "    counts_by_embryos = {\n",
    "        num_embryos: count_planets(\n",
    "            model=model,\n",
    "            data_creator=lambda: mw.sphere(radius=radius),\n",
    "            planet_categories=planet_categories,\n",
    "            model_config={\n",
    "                \"ngpps_star_masses\": host_star_mass,\n",
    "                \"ngpps_num_embryos\": num_embryos,\n",
    "            },\n",
    "            components=\"stars\",\n",
    "        )\n",
    "        for num_embryos in embryo_list\n",
    "    }\n",
    "    counts_dataframe = pd.concat(counts_by_embryos).reset_index(level=1, drop=True)\n",
    "    counts_dataframe[\"Total\"] = counts_dataframe.sum(axis=1)\n",
    "    return counts_dataframe.rename_axis(r\"$N_\\mathrm{Embryos}$\")"
   ]
  },
  {
   "cell_type": "code",
   "execution_count": 9,
   "id": "d6ca690d-e0c5-4a70-b0f1-13c866f08658",
   "metadata": {},
   "outputs": [
    {
     "name": "stderr",
     "output_type": "stream",
     "text": [
      "\n",
      "      CONFIG: Setting ngpps_num_embryos to 10.\n",
      "\n",
      "\n",
      "      TIMER: Block 'Adding Planets...' took 1.99 seconds.\n",
      "\n",
      "\n",
      "      CONFIG: Setting ngpps_num_embryos to 20.\n",
      "\n",
      "\n",
      "      TIMER: Block 'Adding Planets...' took 2.42 seconds.\n",
      "\n",
      "\n",
      "      CONFIG: Setting ngpps_num_embryos to 50.\n",
      "\n",
      "\n",
      "      TIMER: Block 'Adding Planets...' took 3.26 seconds.\n",
      "\n",
      "\n",
      "      CONFIG: Setting ngpps_num_embryos to 100.\n",
      "\n",
      "\n",
      "      TIMER: Block 'Adding Planets...' took 4.2 seconds.\n",
      "\n"
     ]
    }
   ],
   "source": [
    "embryo_list = (10, 20, 50, 100)\n",
    "\n",
    "planet_counts = aggregate_planet_counts_for_embryos(\n",
    "    host_star_mass=host_star_masses, embryo_list=embryo_list\n",
    ")"
   ]
  },
  {
   "cell_type": "code",
   "execution_count": 10,
   "id": "4adcc986-796f-44e7-a284-8d7e7c437816",
   "metadata": {},
   "outputs": [
    {
     "data": {
      "text/html": [
       "<div>\n",
       "<style scoped>\n",
       "    .dataframe tbody tr th:only-of-type {\n",
       "        vertical-align: middle;\n",
       "    }\n",
       "\n",
       "    .dataframe tbody tr th {\n",
       "        vertical-align: top;\n",
       "    }\n",
       "\n",
       "    .dataframe thead th {\n",
       "        text-align: right;\n",
       "    }\n",
       "</style>\n",
       "<table border=\"1\" class=\"dataframe\">\n",
       "  <thead>\n",
       "    <tr style=\"text-align: right;\">\n",
       "      <th>$N_\\mathrm{Embryos}$</th>\n",
       "      <th>10</th>\n",
       "      <th>20</th>\n",
       "      <th>50</th>\n",
       "      <th>100</th>\n",
       "    </tr>\n",
       "  </thead>\n",
       "  <tbody>\n",
       "    <tr>\n",
       "      <th>Earth</th>\n",
       "      <td>3.0</td>\n",
       "      <td>5.2</td>\n",
       "      <td>9.4</td>\n",
       "      <td>11.0</td>\n",
       "    </tr>\n",
       "    <tr>\n",
       "      <th>Super-Earth</th>\n",
       "      <td>3.7</td>\n",
       "      <td>5.1</td>\n",
       "      <td>9.1</td>\n",
       "      <td>11.0</td>\n",
       "    </tr>\n",
       "    <tr>\n",
       "      <th>Neptunian</th>\n",
       "      <td>1.3</td>\n",
       "      <td>1.4</td>\n",
       "      <td>1.3</td>\n",
       "      <td>1.4</td>\n",
       "    </tr>\n",
       "    <tr>\n",
       "      <th>Sub-Giant</th>\n",
       "      <td>0.4</td>\n",
       "      <td>0.4</td>\n",
       "      <td>0.3</td>\n",
       "      <td>0.3</td>\n",
       "    </tr>\n",
       "    <tr>\n",
       "      <th>Giant</th>\n",
       "      <td>0.8</td>\n",
       "      <td>0.8</td>\n",
       "      <td>0.7</td>\n",
       "      <td>0.7</td>\n",
       "    </tr>\n",
       "    <tr>\n",
       "      <th>Total</th>\n",
       "      <td>9.2</td>\n",
       "      <td>12.9</td>\n",
       "      <td>20.8</td>\n",
       "      <td>24.5</td>\n",
       "    </tr>\n",
       "  </tbody>\n",
       "</table>\n",
       "</div>"
      ],
      "text/plain": [
       "$N_\\mathrm{Embryos}$  10    20    50    100\n",
       "Earth                 3.0   5.2   9.4  11.0\n",
       "Super-Earth           3.7   5.1   9.1  11.0\n",
       "Neptunian             1.3   1.4   1.3   1.4\n",
       "Sub-Giant             0.4   0.4   0.3   0.3\n",
       "Giant                 0.8   0.8   0.7   0.7\n",
       "Total                 9.2  12.9  20.8  24.5"
      ]
     },
     "execution_count": 10,
     "metadata": {},
     "output_type": "execute_result"
    }
   ],
   "source": [
    "planet_counts.div(1e9).round(decimals=1).T"
   ]
  }
 ],
 "metadata": {
  "kernelspec": {
   "display_name": "Python 3 (ipykernel)",
   "language": "python",
   "name": "python3"
  },
  "language_info": {
   "codemirror_mode": {
    "name": "ipython",
    "version": 3
   },
   "file_extension": ".py",
   "mimetype": "text/x-python",
   "name": "python",
   "nbconvert_exporter": "python",
   "pygments_lexer": "ipython3",
   "version": "3.10.12"
  }
 },
 "nbformat": 4,
 "nbformat_minor": 5
}
