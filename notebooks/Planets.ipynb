{
 "cells": [
  {
   "cell_type": "markdown",
   "id": "6138236a-13ce-4755-95e7-95f0f2e74438",
   "metadata": {},
   "source": [
    "## DATA SETUP"
   ]
  },
  {
   "cell_type": "code",
   "execution_count": 3,
   "id": "19812dac-663c-47df-84bb-20960d318987",
   "metadata": {},
   "outputs": [
    {
     "name": "stdout",
     "output_type": "stream",
     "text": [
      "The autoreload extension is already loaded. To reload it, use:\n",
      "  %reload_ext autoreload\n"
     ]
    }
   ],
   "source": [
    "%load_ext autoreload\n",
    "%autoreload 2"
   ]
  },
  {
   "cell_type": "code",
   "execution_count": 6,
   "id": "49e989e7-bb10-4775-b2b2-2a3fb9e3c5a2",
   "metadata": {},
   "outputs": [],
   "source": [
    "# load local version before pip installed version, for debugging\n",
    "import pathlib\n",
    "import sys\n",
    "import os\n",
    "\n",
    "sys.path.append(str(pathlib.Path(os.getcwd()).parent.joinpath(\"src\")))"
   ]
  },
  {
   "cell_type": "code",
   "execution_count": null,
   "id": "de991f22-abe8-4c7d-835c-80597b25ca5f",
   "metadata": {},
   "outputs": [],
   "source": [
    "import yt\n",
    "import numpy as np\n",
    "import matplotlib.pyplot as plt\n",
    "\n",
    "from gallifrey.setup import data_setup\n",
    "from gallifrey.utilities.math import calculate_pca\n",
    "from gallifrey.particles import rotated_dataset"
   ]
  },
  {
   "cell_type": "code",
   "execution_count": null,
   "id": "e8d9d1eb-a147-40e6-9867-f799b76ebca8",
   "metadata": {},
   "outputs": [],
   "source": [
    "snapshot = 127\n",
    "resolution = 4096\n",
    "sim_id = \"09_18\"\n",
    "ngpps_id: str = \"ng75\"\n",
    "planet_categories = [\n",
    "    \"Earth\",\n",
    "    \"Super-Earth\",\n",
    "    \"Neptunian\",\n",
    "    \"Sub-Giant\",\n",
    "    \"Giant\",\n",
    "    \"D-Burner\",\n",
    "]\n",
    "save = False"
   ]
  },
  {
   "cell_type": "code",
   "execution_count": null,
   "id": "04d5251d-fdb2-45a4-bd69-f955ea3ec6bc",
   "metadata": {},
   "outputs": [],
   "source": [
    "ds, mw, stellar_model, imf, planet_model = data_setup(\n",
    "    snapshot=snapshot, resolution=resolution, sim_id=sim_id, ngpps_id=ngpps_id\n",
    ")"
   ]
  },
  {
   "cell_type": "markdown",
   "id": "8353af72-933c-4de0-bbf6-b14670a5d644",
   "metadata": {},
   "source": [
    "## PLOT SETUP"
   ]
  },
  {
   "cell_type": "code",
   "execution_count": null,
   "id": "41baddf3-4c77-4998-ab51-ff0a4bda9473",
   "metadata": {},
   "outputs": [],
   "source": [
    "from planet_maps import plot_maps\n",
    "from planet_1dprofiles import plot_1dprofiles\n",
    "from planet_2dprofiles import plot_2dprofiles"
   ]
  },
  {
   "cell_type": "code",
   "execution_count": null,
   "id": "9aa8658c-cbe5-45be-b718-a78f1b3b28cb",
   "metadata": {},
   "outputs": [],
   "source": [
    "def add_star_weighted_field(category, normalize=True):\n",
    "    def _star_weighted_planets(field, data):\n",
    "        planets_per_star = data[\"stars\", category] / data[\"stars\", \"number\"]\n",
    "        if normalize:\n",
    "            max_value = np.amax(planets_per_star)\n",
    "            if max_value == 0:\n",
    "                return np.repeat(0, len(planets_per_star))\n",
    "            else:\n",
    "                return planets_per_star / np.amax(planets_per_star)\n",
    "        else:\n",
    "            return planets_per_star\n",
    "\n",
    "    ds.add_field(\n",
    "        (\"stars\", f\"star_weighted_{category}\"),\n",
    "        function=_star_weighted_planets,\n",
    "        sampling_type=\"local\",\n",
    "        units=\"auto\",\n",
    "        dimensions=1,\n",
    "    )\n",
    "\n",
    "\n",
    "for category in planet_categories:\n",
    "    add_star_weighted_field(category, normalize=False)"
   ]
  },
  {
   "cell_type": "markdown",
   "id": "8f3814fb-05ba-48db-9d82-340bd57a5b14",
   "metadata": {},
   "source": [
    "## CREATE DATA SOURCE"
   ]
  },
  {
   "cell_type": "code",
   "execution_count": null,
   "id": "360befc4-a998-4e87-834f-ebd35a733399",
   "metadata": {},
   "outputs": [],
   "source": [
    "radius = 60\n",
    "normal_vector = calculate_pca(\n",
    "    mw.sphere(radius=(10, \"kpc\"))[\"stars\", \"Coordinates\"]\n",
    ").components_[-1]"
   ]
  },
  {
   "cell_type": "code",
   "execution_count": null,
   "id": "a5493260-db09-419c-b83b-7f1db8c7352f",
   "metadata": {},
   "outputs": [],
   "source": [
    "sphere_data = mw.sphere(radius=ds.quan(radius, \"kpc\"))\n",
    "\n",
    "rotated_disk_data = rotated_dataset(\n",
    "    mw.disk(\n",
    "        radius=ds.quan(radius, \"kpc\"), height=ds.quan(0.5, \"kpc\"), normal=normal_vector\n",
    "    ),\n",
    "    mw.centre(),\n",
    "    normal_vector,\n",
    "    [\n",
    "        (\"stars\", \"[Fe/H]\"),\n",
    "        (\"stars\", \"number\"),\n",
    "        *[(\"stars\", f\"{category}\") for category in planet_categories],\n",
    "        *[(\"stars\", f\"star_weighted_{category}\") for category in planet_categories],\n",
    "    ],\n",
    ")\n",
    "\n",
    "rotated_sphere_data = rotated_dataset(\n",
    "    sphere_data,\n",
    "    mw.centre(),\n",
    "    normal_vector,\n",
    "    [\n",
    "        (\"stars\", \"[Fe/H]\"),\n",
    "        (\"stars\", \"number\"),\n",
    "        *[(\"stars\", f\"{category}\") for category in planet_categories],\n",
    "        *[(\"stars\", f\"star_weighted_{category}\") for category in planet_categories],\n",
    "    ],\n",
    ")"
   ]
  },
  {
   "cell_type": "code",
   "execution_count": null,
   "id": "100f3417-4bd4-49eb-8643-3c4420497365",
   "metadata": {},
   "outputs": [],
   "source": [
    "fields = [(\"stars\", category) for category in planet_categories]\n",
    "\n",
    "plot = yt.ParticleProjectionPlot(\n",
    "    ds=rotated_sphere_data,\n",
    "    fields=fields,\n",
    "    axis=\"z\",\n",
    "    width=(42, \"kpc\"),\n",
    "    deposition=\"cic\",\n",
    "    weight_field=(\"stars\", \"number\"),\n",
    "    density=True,\n",
    ")\n",
    "\n",
    "for field in fields:\n",
    "    plot.set_unit(field, \"1/pc**2\")\n",
    "\n",
    "image_values = np.array([np.array(plot.frb[field]) for field in fields]).flatten()\n",
    "percentiles = np.nanpercentile(image_values[image_values > 0], [1, 99])\n",
    "\n",
    "for field in fields:\n",
    "    plot.set_cmap(field, \"kelp\")\n",
    "    plot.set_colorbar_label(\n",
    "        field, field[-1] + r\"s Per Star $\\left(1/\\mathrm{pc}^2\\right)$\"\n",
    "    )\n",
    "\n",
    "    image_values = np.array(plot.frb[field]).flatten()\n",
    "    percentiles = np.nanpercentile(image_values[image_values > 0], [1, 99])\n",
    "\n",
    "    plot.set_zlim(field, *percentiles)\n",
    "fig = plot.export_to_mpl_figure((2, 3))\n",
    "fig.set_size_inches(18.5, 10.5)\n",
    "fig.tight_layout()"
   ]
  },
  {
   "cell_type": "markdown",
   "id": "1a8e356b-50f4-49ac-80d3-cdd26dd673cd",
   "metadata": {},
   "source": [
    "## FACE-ON MAPS"
   ]
  },
  {
   "cell_type": "code",
   "execution_count": null,
   "id": "e7311815-618d-4568-85f7-0330d01209d7",
   "metadata": {},
   "outputs": [],
   "source": [
    "zplot, zplots = plot_maps(rotated_data, axis=\"z\", save=save)"
   ]
  },
  {
   "cell_type": "markdown",
   "id": "2c61788b-8521-4bdc-80db-aef97a03188c",
   "metadata": {
    "tags": []
   },
   "source": [
    "## SIDE-ON MAPS"
   ]
  },
  {
   "cell_type": "code",
   "execution_count": null,
   "id": "395fc6c6-cc72-404f-b8e7-1c8b5aafc569",
   "metadata": {},
   "outputs": [],
   "source": [
    "yplot, yplots = plot_maps(rotated_data, axis=\"x\", save=save)"
   ]
  },
  {
   "cell_type": "markdown",
   "id": "90437ef3-f7b2-4e61-bc23-dfb91ce449f3",
   "metadata": {},
   "source": [
    "## 1D Profiles"
   ]
  },
  {
   "cell_type": "code",
   "execution_count": null,
   "id": "0e0aa41b-8cf7-4b5e-9593-27fff174a794",
   "metadata": {},
   "outputs": [],
   "source": [
    "figs, axes = plot_1dprofiles(\n",
    "    disk_data.sphere([0, 0, 0], 30), halo=mw, disk_height=ds.quan(0.5, \"kpc\"), save=save\n",
    ")"
   ]
  },
  {
   "cell_type": "markdown",
   "id": "1bc8b618-a4e9-42aa-be5c-4f64a555105a",
   "metadata": {},
   "source": [
    "## 2D Profiles"
   ]
  },
  {
   "cell_type": "code",
   "execution_count": null,
   "id": "433cb454-3f10-4cf0-8478-2746673cfdb5",
   "metadata": {},
   "outputs": [],
   "source": [
    "age_plots = plot_2dprofiles(sphere_data, \"stellar_age\", save=save)"
   ]
  },
  {
   "cell_type": "code",
   "execution_count": null,
   "id": "99465391-f689-429e-9fd8-209346ece426",
   "metadata": {},
   "outputs": [],
   "source": [
    "fe_plots = plot_2dprofiles(sphere_data, \"metallicity\", save=save)"
   ]
  }
 ],
 "metadata": {
  "kernelspec": {
   "display_name": "Python 3 (ipykernel)",
   "language": "python",
   "name": "python3"
  },
  "language_info": {
   "codemirror_mode": {
    "name": "ipython",
    "version": 3
   },
   "file_extension": ".py",
   "mimetype": "text/x-python",
   "name": "python",
   "nbconvert_exporter": "python",
   "pygments_lexer": "ipython3",
   "version": "3.10.12"
  }
 },
 "nbformat": 4,
 "nbformat_minor": 5
}
