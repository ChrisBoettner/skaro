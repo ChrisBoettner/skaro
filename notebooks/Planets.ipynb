{
 "cells": [
  {
   "cell_type": "code",
   "execution_count": 1,
   "id": "19812dac-663c-47df-84bb-20960d318987",
   "metadata": {},
   "outputs": [],
   "source": [
    "%load_ext autoreload\n",
    "%autoreload 2\n",
    "%matplotlib inline"
   ]
  },
  {
   "cell_type": "code",
   "execution_count": 2,
   "id": "49e989e7-bb10-4775-b2b2-2a3fb9e3c5a2",
   "metadata": {},
   "outputs": [],
   "source": [
    "# load local version of gallifrey, before pip installed version, for debugging\n",
    "import pathlib\n",
    "import sys\n",
    "import os\n",
    "\n",
    "sys.path.append(str(pathlib.Path(os.getcwd()).parent.joinpath(\"src\")))"
   ]
  },
  {
   "cell_type": "code",
   "execution_count": 3,
   "id": "de991f22-abe8-4c7d-835c-80597b25ca5f",
   "metadata": {},
   "outputs": [],
   "source": [
    "import yt\n",
    "import numpy as np\n",
    "import matplotlib.pyplot as plt\n",
    "\n",
    "from gallifrey.setup import data_setup\n",
    "from gallifrey.utilities.math import calculate_pca\n",
    "from gallifrey.particles import rotated_dataset"
   ]
  },
  {
   "cell_type": "markdown",
   "id": "6138236a-13ce-4755-95e7-95f0f2e74438",
   "metadata": {},
   "source": [
    "## DATA SETUP"
   ]
  },
  {
   "cell_type": "code",
   "execution_count": 4,
   "id": "e8d9d1eb-a147-40e6-9867-f799b76ebca8",
   "metadata": {},
   "outputs": [],
   "source": [
    "snapshot = 127\n",
    "resolution = 4096\n",
    "sim_id = \"09_18\"\n",
    "ngpps_id: str = \"ng75\"\n",
    "planet_categories = [\n",
    "    \"Earth\",\n",
    "    \"Super-Earth\",\n",
    "    \"Neptunian\",\n",
    "    \"Sub-Giant\",\n",
    "    \"Giant\",\n",
    "    \"D-Burner\",\n",
    "]\n",
    "save = False"
   ]
  },
  {
   "cell_type": "code",
   "execution_count": 5,
   "id": "04d5251d-fdb2-45a4-bd69-f955ea3ec6bc",
   "metadata": {},
   "outputs": [
    {
     "name": "stderr",
     "output_type": "stream",
     "text": [
      "\n",
      "      DETECTED LOCAL MACHINE: Test snapshot loaded.\n",
      "\n",
      "yt : [INFO     ] 2023-07-05 18:19:50,333 Calculating time from 1.000e+00 to be 4.318e+17 seconds\n",
      "yt : [INFO     ] 2023-07-05 18:19:50,389 Parameters: current_time              = 4.318436660023809e+17 s\n",
      "yt : [INFO     ] 2023-07-05 18:19:50,389 Parameters: domain_dimensions         = [1 1 1]\n",
      "yt : [INFO     ] 2023-07-05 18:19:50,390 Parameters: domain_left_edge          = [0. 0. 0.]\n",
      "yt : [INFO     ] 2023-07-05 18:19:50,391 Parameters: domain_right_edge         = [100. 100. 100.]\n",
      "yt : [INFO     ] 2023-07-05 18:19:50,391 Parameters: cosmological_simulation   = 1\n",
      "yt : [INFO     ] 2023-07-05 18:19:50,391 Parameters: current_redshift          = 4.440892098500626e-16\n",
      "yt : [INFO     ] 2023-07-05 18:19:50,392 Parameters: omega_lambda              = 0.682\n",
      "yt : [INFO     ] 2023-07-05 18:19:50,392 Parameters: omega_matter              = 0.318\n",
      "yt : [INFO     ] 2023-07-05 18:19:50,392 Parameters: omega_radiation           = 0.0\n",
      "yt : [INFO     ] 2023-07-05 18:19:50,393 Parameters: hubble_constant           = 0.6777\n",
      "\n",
      "      TIMER: Block 'Loading Hestia Snapshot...' took 0.12 seconds.\n",
      "\n",
      "\n",
      "      STARS: 'stars' field derives from PartType4 field in age range: [0.02, 10.0] Gyr.\n",
      "\n",
      "\n",
      "      FIELDS: Adding field ('PartType4', 'stellar_age') field with ages in Gyr.\n",
      "\n",
      "yt : [INFO     ] 2023-07-05 18:19:50,779 Allocating for 1.92e+08 particles\n",
      "Loading particle index: 100%|███████████████| 245/245 [00:00<00:00, 2298.30it/s]\n",
      "\n",
      "      FIELDS: Adding field ('PartType4', 'InitialMass'), with masses in 'code_mass'.\n",
      "\n",
      "\n",
      "      TIMER: Block 'Adding Stars...' took 1.24 seconds.\n",
      "\n",
      "\n",
      "      TIMER: Block 'Adding Planets...' took 1.01 seconds.\n",
      "\n",
      "\n",
      "      TIMER: Block 'Other Calculations...' took 0.01 seconds.\n",
      "\n"
     ]
    }
   ],
   "source": [
    "ds, mw, stellar_model, imf, planet_model = data_setup(\n",
    "    snapshot=snapshot, resolution=resolution, sim_id=sim_id, ngpps_id=ngpps_id\n",
    ")"
   ]
  },
  {
   "cell_type": "markdown",
   "id": "8353af72-933c-4de0-bbf6-b14670a5d644",
   "metadata": {},
   "source": [
    "## PLOT SETUP"
   ]
  },
  {
   "cell_type": "code",
   "execution_count": 6,
   "id": "41baddf3-4c77-4998-ab51-ff0a4bda9473",
   "metadata": {},
   "outputs": [],
   "source": [
    "from planet_maps import plot_maps\n",
    "from planet_1dprofiles import plot_1dprofiles\n",
    "from planet_2dprofiles import plot_2dprofiles"
   ]
  },
  {
   "cell_type": "markdown",
   "id": "8f3814fb-05ba-48db-9d82-340bd57a5b14",
   "metadata": {},
   "source": [
    "## CREATE DATA SOURCE"
   ]
  },
  {
   "cell_type": "code",
   "execution_count": 7,
   "id": "360befc4-a998-4e87-834f-ebd35a733399",
   "metadata": {},
   "outputs": [],
   "source": [
    "radius = 60\n",
    "normal_vector = calculate_pca(\n",
    "    mw.sphere(radius=(10, \"kpc\"))[\"stars\", \"Coordinates\"]\n",
    ").components_[-1]"
   ]
  },
  {
   "cell_type": "code",
   "execution_count": 8,
   "id": "a5493260-db09-419c-b83b-7f1db8c7352f",
   "metadata": {},
   "outputs": [
    {
     "name": "stderr",
     "output_type": "stream",
     "text": [
      "yt : [INFO     ] 2023-07-05 18:20:03,777 Parameters: current_time              = 0.0\n",
      "yt : [INFO     ] 2023-07-05 18:20:03,778 Parameters: domain_dimensions         = [1 1 1]\n",
      "yt : [INFO     ] 2023-07-05 18:20:03,779 Parameters: domain_left_edge          = [-53.71418559 -53.71418559 -53.71418559]\n",
      "yt : [INFO     ] 2023-07-05 18:20:03,779 Parameters: domain_right_edge         = [51.66181864 51.66181864 51.66181864]\n",
      "yt : [INFO     ] 2023-07-05 18:20:03,780 Parameters: cosmological_simulation   = 0\n",
      "yt : [INFO     ] 2023-07-05 18:20:03,781 Allocating for 1.206e+05 particles\n",
      "yt : [INFO     ] 2023-07-05 18:20:12,495 Parameters: current_time              = 0.0\n",
      "yt : [INFO     ] 2023-07-05 18:20:12,496 Parameters: domain_dimensions         = [1 1 1]\n",
      "yt : [INFO     ] 2023-07-05 18:20:12,496 Parameters: domain_left_edge          = [-58.64595144 -58.64595144 -58.64595144]\n",
      "yt : [INFO     ] 2023-07-05 18:20:12,497 Parameters: domain_right_edge         = [58.6689201 58.6689201 58.6689201]\n",
      "yt : [INFO     ] 2023-07-05 18:20:12,498 Parameters: cosmological_simulation   = 0\n",
      "yt : [INFO     ] 2023-07-05 18:20:12,499 Allocating for 3.092e+05 particles\n"
     ]
    }
   ],
   "source": [
    "sphere_data = mw.sphere(radius=ds.quan(radius, \"kpc\"))\n",
    "\n",
    "rotated_disk_data = rotated_dataset(\n",
    "    mw.disk(\n",
    "        radius=ds.quan(radius, \"kpc\"), height=ds.quan(0.5, \"kpc\"), normal=normal_vector\n",
    "    ),\n",
    "    mw.centre(),\n",
    "    normal_vector,\n",
    "    [\n",
    "        (\"stars\", \"[Fe/H]\"),\n",
    "        (\"stars\", \"number\"),\n",
    "        *[(\"stars\", f\"{category}\") for category in planet_categories],\n",
    "    ],\n",
    ")\n",
    "\n",
    "rotated_sphere_data = rotated_dataset(\n",
    "    sphere_data,\n",
    "    mw.centre(),\n",
    "    normal_vector,\n",
    "    [\n",
    "        (\"stars\", \"[Fe/H]\"),\n",
    "        (\"stars\", \"number\"),\n",
    "        *[(\"stars\", f\"{category}\") for category in planet_categories],\n",
    "    ],\n",
    ")"
   ]
  },
  {
   "cell_type": "markdown",
   "id": "1a8e356b-50f4-49ac-80d3-cdd26dd673cd",
   "metadata": {},
   "source": [
    "## FACE-ON MAPS"
   ]
  },
  {
   "cell_type": "code",
   "execution_count": null,
   "id": "e7311815-618d-4568-85f7-0330d01209d7",
   "metadata": {},
   "outputs": [
    {
     "name": "stderr",
     "output_type": "stream",
     "text": [
      "yt : [INFO     ] 2023-07-05 18:30:51,653 xlim = -21.638516 21.661484\n",
      "yt : [INFO     ] 2023-07-05 18:30:51,654 ylim = -21.638516 21.661484\n",
      "yt : [INFO     ] 2023-07-05 18:30:51,657 xlim = -21.638516 21.661484\n",
      "yt : [INFO     ] 2023-07-05 18:30:51,658 ylim = -21.638516 21.661484\n",
      "yt : [INFO     ] 2023-07-05 18:30:51,660 Splatting (('stars', 'Giant')) onto a 800 by 800 mesh using method 'cic'\n",
      "yt : [INFO     ] 2023-07-05 18:30:51,876 Splatting (('stars', 'Neptunian')) onto a 800 by 800 mesh using method 'cic'\n",
      "yt : [INFO     ] 2023-07-05 18:30:52,068 Splatting (('stars', 'Super-Earth')) onto a 800 by 800 mesh using method 'cic'\n",
      "yt : [INFO     ] 2023-07-05 18:30:52,275 Splatting (('stars', 'Sub-Giant')) onto a 800 by 800 mesh using method 'cic'\n",
      "yt : [INFO     ] 2023-07-05 18:30:52,472 Splatting (('stars', 'D-Burner')) onto a 800 by 800 mesh using method 'cic'\n",
      "yt : [INFO     ] 2023-07-05 18:30:52,650 Splatting (('stars', 'Earth')) onto a 800 by 800 mesh using method 'cic'\n",
      "yt : [INFO     ] 2023-07-05 18:31:12,005 xlim = -21.638516 21.661484\n",
      "yt : [INFO     ] 2023-07-05 18:31:12,006 ylim = -21.638516 21.661484\n",
      "yt : [INFO     ] 2023-07-05 18:31:12,008 xlim = -21.638516 21.661484\n",
      "yt : [INFO     ] 2023-07-05 18:31:12,008 ylim = -21.638516 21.661484\n",
      "yt : [INFO     ] 2023-07-05 18:31:12,010 Splatting (('stars', 'Giant')) onto a 800 by 800 mesh using method 'cic'\n",
      "yt : [INFO     ] 2023-07-05 18:31:12,208 Splatting (('stars', 'Neptunian')) onto a 800 by 800 mesh using method 'cic'\n",
      "yt : [INFO     ] 2023-07-05 18:31:12,385 Splatting (('stars', 'Super-Earth')) onto a 800 by 800 mesh using method 'cic'\n",
      "yt : [INFO     ] 2023-07-05 18:31:12,549 Splatting (('stars', 'Sub-Giant')) onto a 800 by 800 mesh using method 'cic'\n",
      "yt : [INFO     ] 2023-07-05 18:31:12,733 Splatting (('stars', 'D-Burner')) onto a 800 by 800 mesh using method 'cic'\n",
      "yt : [INFO     ] 2023-07-05 18:31:12,909 Splatting (('stars', 'Earth')) onto a 800 by 800 mesh using method 'cic'\n"
     ]
    }
   ],
   "source": [
    "zplot, zfig = plot_maps(\n",
    "    planet_categories,\n",
    "    rotated_sphere_data,\n",
    "    normal=\"z\",\n",
    "    colorbar_normalisation=\"global\",\n",
    "    subplot_pad=0,\n",
    "    save=save\n",
    ")\n",
    "zplot_per_star, zfig_per_star = plot_maps(\n",
    "    planet_categories,\n",
    "    rotated_sphere_data,\n",
    "    normal=\"z\",\n",
    "    weight_field=(\"stars\", \"number\"),\n",
    "    colorbar_normalisation=\"row\",\n",
    "    subplot_pad=(0, 0),\n",
    "    save=save\n",
    ")"
   ]
  },
  {
   "cell_type": "markdown",
   "id": "2c61788b-8521-4bdc-80db-aef97a03188c",
   "metadata": {
    "tags": []
   },
   "source": [
    "## SIDE-ON MAPS"
   ]
  },
  {
   "cell_type": "code",
   "execution_count": null,
   "id": "395fc6c6-cc72-404f-b8e7-1c8b5aafc569",
   "metadata": {},
   "outputs": [],
   "source": [
    "zplot, zfig = plot_maps(\n",
    "    planet_categories,\n",
    "    rotated_sphere_data,\n",
    "    normal=\"x\",\n",
    "    colorbar_normalisation=\"global\",\n",
    "    subplot_pad=0,\n",
    "    save=save,\n",
    ")\n",
    "zplot_per_star, zfig_per_star = plot_maps(\n",
    "    planet_categories,\n",
    "    rotated_sphere_data,\n",
    "    normal=\"x\",\n",
    "    weight_field=(\"stars\", \"number\"),\n",
    "    colorbar_normalisation=\"row\",\n",
    "    subplot_pad=(0, 0),\n",
    "    save=save,\n",
    ")"
   ]
  },
  {
   "cell_type": "markdown",
   "id": "90437ef3-f7b2-4e61-bc23-dfb91ce449f3",
   "metadata": {},
   "source": [
    "## 1D Profiles"
   ]
  },
  {
   "cell_type": "markdown",
   "id": "1bc8b618-a4e9-42aa-be5c-4f64a555105a",
   "metadata": {},
   "source": [
    "## 2D Profiles"
   ]
  }
 ],
 "metadata": {
  "kernelspec": {
   "display_name": "Python 3 (ipykernel)",
   "language": "python",
   "name": "python3"
  },
  "language_info": {
   "codemirror_mode": {
    "name": "ipython",
    "version": 3
   },
   "file_extension": ".py",
   "mimetype": "text/x-python",
   "name": "python",
   "nbconvert_exporter": "python",
   "pygments_lexer": "ipython3",
   "version": "3.10.12"
  }
 },
 "nbformat": 4,
 "nbformat_minor": 5
}
