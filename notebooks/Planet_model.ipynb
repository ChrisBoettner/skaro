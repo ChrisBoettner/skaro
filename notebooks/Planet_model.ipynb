{
 "cells": [
  {
   "cell_type": "markdown",
   "id": "4e840b9b-d7e8-4741-9ef7-272b19385d21",
   "metadata": {},
   "source": [
    "## GENERAL SETUP"
   ]
  },
  {
   "cell_type": "code",
   "execution_count": 1,
   "id": "b26573b3-d443-49c3-bdba-438834c9fe9c",
   "metadata": {},
   "outputs": [],
   "source": [
    "%load_ext autoreload\n",
    "%autoreload 2\n",
    "%matplotlib inline"
   ]
  },
  {
   "cell_type": "code",
   "execution_count": 2,
   "id": "d8c1733b-0868-436c-8423-9679670e6ec5",
   "metadata": {},
   "outputs": [],
   "source": [
    "# load local version of gallifrey, before pip installed version, for debugging\n",
    "import pathlib\n",
    "import sys\n",
    "import os\n",
    "\n",
    "sys.path.append(str(pathlib.Path(os.getcwd()).parent.joinpath(\"src\")))"
   ]
  },
  {
   "cell_type": "code",
   "execution_count": 3,
   "id": "ade4a30a-4ee3-42e0-b50b-de49408c778d",
   "metadata": {},
   "outputs": [],
   "source": [
    "import numpy as np\n",
    "import pandas as pd\n",
    "import matplotlib.pyplot as plt\n",
    "import seaborn as sns\n",
    "\n",
    "from gallifrey.planets import PlanetModel\n",
    "from gallifrey.utilities.dataframe import rename_labels\n",
    "from gallifrey.visualization.seaborn import (\n",
    "    set_plot_defaults,\n",
    "    get_palette,\n",
    "    SeabornFigure,\n",
    ")"
   ]
  },
  {
   "cell_type": "markdown",
   "id": "a8329e0e-a7e9-488d-bf61-80d72c0f3a8d",
   "metadata": {},
   "source": [
    "## PLOT SETUP"
   ]
  },
  {
   "cell_type": "code",
   "execution_count": 4,
   "id": "161f5967-ba97-47e4-80cb-225af5b8ada7",
   "metadata": {},
   "outputs": [
    {
     "name": "stdout",
     "output_type": "stream",
     "text": [
      "RIDGE PLOT 1: ALL CATEGORIES AT ONE FIXED [FE/H] AND OTHER VARIABLES SAMPLED -> INTRINSIC VARIATIONS UNRELATED TO METALLICITY\n",
      "RIDGE PLOT 2: ONE CATEGORY, ALL VARIABLES SAMPLES, DIFFERENT STAR MASSES -> VARIATIONS WITH STAR MASS (VERY DIFFERENT FOR DIFFERENT CATEGORIES, NEED ANOTHER PLOT TO SHOW THAT\n",
      "ADD MODEL WHERE METALLICITIES BELOW -0.5 GET 0 PLANETS, SEE HOW MUCH THAT CHANGES (PHRASE IT AS TWO EXTREMES)\n"
     ]
    }
   ],
   "source": [
    "print(\n",
    "    \"RIDGE PLOT 1: ALL CATEGORIES AT ONE FIXED [FE/H] AND OTHER VARIABLES SAMPLED -> INTRINSIC VARIATIONS UNRELATED TO METALLICITY\"\n",
    ")\n",
    "print(\n",
    "    \"RIDGE PLOT 2: ONE CATEGORY, ALL VARIABLES SAMPLES, DIFFERENT STAR MASSES -> VARIATIONS WITH STAR MASS (VERY DIFFERENT FOR DIFFERENT CATEGORIES, NEED ANOTHER PLOT TO SHOW THAT\"\n",
    ")\n",
    "print(\n",
    "    \"ADD MODEL WHERE METALLICITIES BELOW -0.5 GET 0 PLANETS, SEE HOW MUCH THAT CHANGES (PHRASE IT AS TWO EXTREMES)\"\n",
    ")"
   ]
  },
  {
   "cell_type": "code",
   "execution_count": 5,
   "id": "91566348-9c27-473e-b683-6a6bb4d7a41c",
   "metadata": {},
   "outputs": [],
   "source": [
    "set_plot_defaults()"
   ]
  },
  {
   "cell_type": "markdown",
   "id": "86298dc5-9e87-4ab5-874f-f8c61463080a",
   "metadata": {},
   "source": [
    "## REDUCING DIMENSIONALITY"
   ]
  },
  {
   "cell_type": "code",
   "execution_count": 6,
   "id": "c0fc9fcd-0548-4db2-bc6b-100d8084086c",
   "metadata": {},
   "outputs": [],
   "source": [
    "figure_directory = \"Planet_model\"\n",
    "\n",
    "num_samples = int(1e5)\n",
    "\n",
    "num_embryos = 50\n",
    "host_star_mass = 1\n",
    "age = int(1e8)\n",
    "\n",
    "planet_model = PlanetModel(num_embryos)\n",
    "population_id = planet_model.get_population_id(num_embryos, host_star_mass)\n",
    "\n",
    "categories = [\n",
    "    category\n",
    "    for category in planet_model.categories\n",
    "    if category not in [\"Dwarf\", \"D-Burner\"]\n",
    "]"
   ]
  },
  {
   "cell_type": "code",
   "execution_count": 7,
   "id": "07b9677a-89c3-4928-b10e-097e752255f9",
   "metadata": {},
   "outputs": [],
   "source": [
    "# create uniform sample of relevant monte carlo variables within parameter bounds\n",
    "included_variables = (\"log_initial_mass\", \"[Fe/H]\")\n",
    "\n",
    "bounds = {\n",
    "    key: planet_model.get_systems(population_id).bounds[key]\n",
    "    for key in included_variables\n",
    "}\n",
    "samples = np.column_stack(\n",
    "    [np.random.uniform(bound[0], bound[1], num_samples) for bound in bounds.values()]\n",
    ")\n",
    "samples = pd.DataFrame(samples, columns=bounds.keys())\n",
    "samples[\"age\"] = age"
   ]
  },
  {
   "cell_type": "code",
   "execution_count": 8,
   "id": "9f825bd7-5105-4f84-a83d-8caaca0baaa6",
   "metadata": {},
   "outputs": [],
   "source": [
    "prediction_parameter_dict = {\n",
    "    \"categories\": categories,\n",
    "    \"host_star_mass\": host_star_mass,\n",
    "    \"variables\": samples,\n",
    "    \"return_full\": False,\n",
    "}\n",
    "\n",
    "full_model = planet_model.prediction(**prediction_parameter_dict)\n",
    "small_model = planet_model.prediction(\n",
    "    **prediction_parameter_dict, included_variables=included_variables\n",
    ")\n",
    "\n",
    "model_difference = full_model - small_model"
   ]
  },
  {
   "cell_type": "code",
   "execution_count": 9,
   "id": "75263d55-2e69-4c89-97ba-c1e5ee7451e1",
   "metadata": {},
   "outputs": [
    {
     "data": {
      "text/html": [
       "<div>\n",
       "<style scoped>\n",
       "    .dataframe tbody tr th:only-of-type {\n",
       "        vertical-align: middle;\n",
       "    }\n",
       "\n",
       "    .dataframe tbody tr th {\n",
       "        vertical-align: top;\n",
       "    }\n",
       "\n",
       "    .dataframe thead th {\n",
       "        text-align: right;\n",
       "    }\n",
       "</style>\n",
       "<table border=\"1\" class=\"dataframe\">\n",
       "  <thead>\n",
       "    <tr style=\"text-align: right;\">\n",
       "      <th></th>\n",
       "      <th>Earth</th>\n",
       "      <th>Super-Earth</th>\n",
       "      <th>Neptunian</th>\n",
       "      <th>Sub-Giant</th>\n",
       "      <th>Giant</th>\n",
       "    </tr>\n",
       "  </thead>\n",
       "  <tbody>\n",
       "    <tr>\n",
       "      <th>count</th>\n",
       "      <td>100000.000000</td>\n",
       "      <td>100000.000000</td>\n",
       "      <td>100000.000000</td>\n",
       "      <td>100000.000000</td>\n",
       "      <td>100000.000000</td>\n",
       "    </tr>\n",
       "    <tr>\n",
       "      <th>mean</th>\n",
       "      <td>0.231453</td>\n",
       "      <td>0.129727</td>\n",
       "      <td>-0.006440</td>\n",
       "      <td>0.004257</td>\n",
       "      <td>-0.009963</td>\n",
       "    </tr>\n",
       "    <tr>\n",
       "      <th>std</th>\n",
       "      <td>1.974873</td>\n",
       "      <td>1.451005</td>\n",
       "      <td>0.484897</td>\n",
       "      <td>0.198660</td>\n",
       "      <td>0.335862</td>\n",
       "    </tr>\n",
       "    <tr>\n",
       "      <th>min</th>\n",
       "      <td>-9.000000</td>\n",
       "      <td>-8.333333</td>\n",
       "      <td>-3.666667</td>\n",
       "      <td>-1.666667</td>\n",
       "      <td>-2.333333</td>\n",
       "    </tr>\n",
       "    <tr>\n",
       "      <th>25%</th>\n",
       "      <td>-0.666667</td>\n",
       "      <td>-0.333333</td>\n",
       "      <td>0.000000</td>\n",
       "      <td>0.000000</td>\n",
       "      <td>0.000000</td>\n",
       "    </tr>\n",
       "    <tr>\n",
       "      <th>50%</th>\n",
       "      <td>0.333333</td>\n",
       "      <td>0.000000</td>\n",
       "      <td>0.000000</td>\n",
       "      <td>0.000000</td>\n",
       "      <td>0.000000</td>\n",
       "    </tr>\n",
       "    <tr>\n",
       "      <th>75%</th>\n",
       "      <td>1.333333</td>\n",
       "      <td>0.666667</td>\n",
       "      <td>0.000000</td>\n",
       "      <td>0.000000</td>\n",
       "      <td>0.000000</td>\n",
       "    </tr>\n",
       "    <tr>\n",
       "      <th>max</th>\n",
       "      <td>10.666667</td>\n",
       "      <td>8.666667</td>\n",
       "      <td>3.666667</td>\n",
       "      <td>2.000000</td>\n",
       "      <td>2.333333</td>\n",
       "    </tr>\n",
       "  </tbody>\n",
       "</table>\n",
       "</div>"
      ],
      "text/plain": [
       "               Earth    Super-Earth      Neptunian      Sub-Giant  \\\n",
       "count  100000.000000  100000.000000  100000.000000  100000.000000   \n",
       "mean        0.231453       0.129727      -0.006440       0.004257   \n",
       "std         1.974873       1.451005       0.484897       0.198660   \n",
       "min        -9.000000      -8.333333      -3.666667      -1.666667   \n",
       "25%        -0.666667      -0.333333       0.000000       0.000000   \n",
       "50%         0.333333       0.000000       0.000000       0.000000   \n",
       "75%         1.333333       0.666667       0.000000       0.000000   \n",
       "max        10.666667       8.666667       3.666667       2.000000   \n",
       "\n",
       "               Giant  \n",
       "count  100000.000000  \n",
       "mean       -0.009963  \n",
       "std         0.335862  \n",
       "min        -2.333333  \n",
       "25%         0.000000  \n",
       "50%         0.000000  \n",
       "75%         0.000000  \n",
       "max         2.333333  "
      ]
     },
     "execution_count": 9,
     "metadata": {},
     "output_type": "execute_result"
    }
   ],
   "source": [
    "model_difference.describe()"
   ]
  },
  {
   "cell_type": "markdown",
   "id": "0e5427fe-f295-4940-8d49-c8d42f221e9f",
   "metadata": {},
   "source": [
    "## INTERPOLATION BEHAVIOUR"
   ]
  },
  {
   "cell_type": "code",
   "execution_count": 10,
   "id": "a3c97d36-0d44-4951-a763-23a14cc4aca7",
   "metadata": {},
   "outputs": [],
   "source": [
    "figure_directory = \"Planet_model\"\n",
    "\n",
    "num_embryos = 50\n",
    "category = \"Giant\"\n",
    "host_star_mass = 1\n",
    "age = int(1e8)\n",
    "num_samples = int(1e6)\n",
    "\n",
    "planet_model = PlanetModel(num_embryos)\n",
    "\n",
    "population_id = planet_model.get_population_id(num_embryos, host_star_mass)"
   ]
  },
  {
   "cell_type": "markdown",
   "id": "5025d37e-3fdb-420c-9e2f-c6a484930a46",
   "metadata": {},
   "source": [
    "### Uniform Sampling Of Monte Carlo Variables"
   ]
  },
  {
   "cell_type": "code",
   "execution_count": 11,
   "id": "cb152296-6f7e-4e16-977a-2a33600c41b7",
   "metadata": {},
   "outputs": [],
   "source": [
    "# create uniform sample of monte carlo variables within parameter bounds\n",
    "bounds = planet_model.get_systems(population_id).bounds\n",
    "samples = np.column_stack(\n",
    "    [np.random.uniform(bound[0], bound[1], num_samples) for bound in bounds.values()]\n",
    ")\n",
    "samples = pd.DataFrame(samples, columns=bounds.keys())\n",
    "samples[\"age\"] = age"
   ]
  },
  {
   "cell_type": "code",
   "execution_count": 12,
   "id": "cb934158-e4fd-4866-907b-8c971a9ca4ae",
   "metadata": {},
   "outputs": [],
   "source": [
    "# predict planet number for these random variables\n",
    "result = planet_model.prediction(\n",
    "    category,\n",
    "    host_star_mass,\n",
    "    variables=samples,\n",
    "    return_full=True,\n",
    ")\n",
    "\n",
    "# result[category] = result[category].replace(0, 1e-5) # adding tiny amount to value=0 category, in order for plot to have a lower limit at 0\n",
    "# result[\"Planet Bins\"] = pd.cut(result[category], bins=[0, 1, 2, 3]) # binning planet number predictions for better plotting\n",
    "\n",
    "result, labels = rename_labels(result)  # rename monte carlo variable names in dataframe"
   ]
  },
  {
   "cell_type": "code",
   "execution_count": 13,
   "id": "8ebdc5b9-aeaf-4f17-ac4e-264553225910",
   "metadata": {},
   "outputs": [
    {
     "name": "stdout",
     "output_type": "stream",
     "text": [
      "this plot doesnt work yet, you want something else. bc right now you are calculating the number on points rather than the value of the 4d function, the way seaborn plots this is by weird overlaps\n",
      "see if you can actually cut down model to 2 parameters, that would make it easy. otherwise you have to find a good way to represent the 4d function here here\n"
     ]
    }
   ],
   "source": [
    "print(\n",
    "    \"this plot doesnt work yet, you want something else. bc right now you are calculating the number on points rather than the value of the 4d function, the way seaborn plots this is by weird overlaps\"\n",
    ")\n",
    "print(\n",
    "    \"see if you can actually cut down model to 2 parameters, that would make it easy. otherwise you have to find a good way to represent the 4d function here here\"\n",
    ")\n",
    "\n",
    "# could add {'stat':'density', 'common_norm':False} to normalise diag plots\n",
    "# pairplot = sns.pairplot(\n",
    "#    result.drop(columns=[\"age\", category]),\n",
    "#    hue=\"Planet Bins\",\n",
    "#    kind=\"hist\",\n",
    "#    diag_kws={\"element\": \"step\"},\n",
    "#    #palette=get_palette(n_colors=3),\n",
    "# )\n",
    "# SeabornFigure(pairplot).save(\"planet_model_interpolation.pdf\", sub_directory=figure_directory)"
   ]
  },
  {
   "cell_type": "code",
   "execution_count": null,
   "id": "6518943c-40d7-4ade-9080-9336da491f94",
   "metadata": {},
   "outputs": [],
   "source": []
  }
 ],
 "metadata": {
  "kernelspec": {
   "display_name": "Python 3 (ipykernel)",
   "language": "python",
   "name": "python3"
  },
  "language_info": {
   "codemirror_mode": {
    "name": "ipython",
    "version": 3
   },
   "file_extension": ".py",
   "mimetype": "text/x-python",
   "name": "python",
   "nbconvert_exporter": "python",
   "pygments_lexer": "ipython3",
   "version": "3.10.12"
  }
 },
 "nbformat": 4,
 "nbformat_minor": 5
}
