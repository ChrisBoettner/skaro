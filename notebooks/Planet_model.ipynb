{
 "cells": [
  {
   "cell_type": "markdown",
   "id": "4e840b9b-d7e8-4741-9ef7-272b19385d21",
   "metadata": {},
   "source": [
    "## GENERAL SETUP"
   ]
  },
  {
   "cell_type": "code",
   "execution_count": 1,
   "id": "b26573b3-d443-49c3-bdba-438834c9fe9c",
   "metadata": {},
   "outputs": [],
   "source": [
    "%load_ext autoreload\n",
    "%autoreload 2\n",
    "%matplotlib inline"
   ]
  },
  {
   "cell_type": "code",
   "execution_count": 2,
   "id": "d8c1733b-0868-436c-8423-9679670e6ec5",
   "metadata": {},
   "outputs": [],
   "source": [
    "# load local version of gallifrey, before pip installed version, for debugging\n",
    "import pathlib\n",
    "import sys\n",
    "import os\n",
    "\n",
    "sys.path.append(str(pathlib.Path(os.getcwd()).parent.joinpath(\"src\")))"
   ]
  },
  {
   "cell_type": "code",
   "execution_count": 3,
   "id": "ade4a30a-4ee3-42e0-b50b-de49408c778d",
   "metadata": {},
   "outputs": [],
   "source": [
    "import numpy as np\n",
    "import pandas as pd\n",
    "import matplotlib.pyplot as plt\n",
    "import seaborn as sns\n",
    "\n",
    "from gallifrey.planets import PlanetModel\n",
    "from gallifrey.utilities.dataframe import rename_labels\n",
    "from gallifrey.visualization.visualization_utils import (\n",
    "    set_plot_defaults,\n",
    "    get_palette,\n",
    "    FigureProcessor,\n",
    "    contour_plot,\n",
    ")"
   ]
  },
  {
   "cell_type": "markdown",
   "id": "a8329e0e-a7e9-488d-bf61-80d72c0f3a8d",
   "metadata": {},
   "source": [
    "## PLOT SETUP"
   ]
  },
  {
   "cell_type": "code",
   "execution_count": 4,
   "id": "161f5967-ba97-47e4-80cb-225af5b8ada7",
   "metadata": {},
   "outputs": [
    {
     "name": "stdout",
     "output_type": "stream",
     "text": [
      "RIDGE PLOT 1: ALL CATEGORIES AT ONE FIXED [FE/H] AND OTHER VARIABLES SAMPLED -> INTRINSIC VARIATIONS UNRELATED TO METALLICITY\n",
      "RIDGE PLOT 2: ONE CATEGORY, ALL VARIABLES SAMPLES, DIFFERENT STAR MASSES -> VARIATIONS WITH STAR MASS (VERY DIFFERENT FOR DIFFERENT CATEGORIES, NEED ANOTHER PLOT TO SHOW THAT\n",
      "ADD MODEL WHERE METALLICITIES BELOW -0.5 GET 0 PLANETS, SEE HOW MUCH THAT CHANGES (PHRASE IT AS TWO EXTREMES)\n"
     ]
    }
   ],
   "source": [
    "print(\n",
    "    \"RIDGE PLOT 1: ALL CATEGORIES AT ONE FIXED [FE/H] AND OTHER VARIABLES SAMPLED -> INTRINSIC VARIATIONS UNRELATED TO METALLICITY\"\n",
    ")\n",
    "print(\n",
    "    \"RIDGE PLOT 2: ONE CATEGORY, ALL VARIABLES SAMPLES, DIFFERENT STAR MASSES -> VARIATIONS WITH STAR MASS (VERY DIFFERENT FOR DIFFERENT CATEGORIES, NEED ANOTHER PLOT TO SHOW THAT\"\n",
    ")\n",
    "print(\n",
    "    \"ADD MODEL WHERE METALLICITIES BELOW -0.5 GET 0 PLANETS, SEE HOW MUCH THAT CHANGES (PHRASE IT AS TWO EXTREMES)\"\n",
    ")"
   ]
  },
  {
   "cell_type": "code",
   "execution_count": 5,
   "id": "91566348-9c27-473e-b683-6a6bb4d7a41c",
   "metadata": {},
   "outputs": [],
   "source": [
    "set_plot_defaults()\n",
    "figure_directory = \"Planet_model\""
   ]
  },
  {
   "cell_type": "markdown",
   "id": "86298dc5-9e87-4ab5-874f-f8c61463080a",
   "metadata": {},
   "source": [
    "## REDUCING DIMENSIONALITY"
   ]
  },
  {
   "cell_type": "code",
   "execution_count": 6,
   "id": "c0fc9fcd-0548-4db2-bc6b-100d8084086c",
   "metadata": {},
   "outputs": [],
   "source": [
    "num_samples = int(1e5)\n",
    "\n",
    "num_embryos = 50\n",
    "host_star_mass = 1\n",
    "\n",
    "planet_model = PlanetModel(num_embryos)\n",
    "population_id = planet_model.get_population_id(num_embryos, host_star_mass)\n",
    "\n",
    "categories = [\n",
    "    category\n",
    "    for category in planet_model.categories\n",
    "    if category not in [\"Dwarf\", \"D-Burner\"]\n",
    "]\n",
    "included_variables = (\"log_initial_mass\", \"[Fe/H]\")"
   ]
  },
  {
   "cell_type": "markdown",
   "id": "c0dc954a-5d32-4ce9-95d7-7fc4c2ca4724",
   "metadata": {},
   "source": [
    "### Creating Sample of included Monte Carlo Variables"
   ]
  },
  {
   "cell_type": "code",
   "execution_count": 7,
   "id": "07b9677a-89c3-4928-b10e-097e752255f9",
   "metadata": {},
   "outputs": [],
   "source": [
    "bounds = {\n",
    "    variable: planet_model.get_systems(population_id).bounds[variable]\n",
    "    for variable in included_variables\n",
    "}\n",
    "samples = np.column_stack(\n",
    "    [np.random.uniform(bound[0], bound[1], num_samples) for bound in bounds.values()]\n",
    ")\n",
    "samples = pd.DataFrame(samples, columns=bounds.keys())"
   ]
  },
  {
   "cell_type": "markdown",
   "id": "a5945a38-a13d-4a6d-b718-12a374f7891a",
   "metadata": {},
   "source": [
    "### Compare behaviour of full and reduced model"
   ]
  },
  {
   "cell_type": "code",
   "execution_count": 8,
   "id": "9f825bd7-5105-4f84-a83d-8caaca0baaa6",
   "metadata": {},
   "outputs": [
    {
     "data": {
      "text/html": [
       "<div>\n",
       "<style scoped>\n",
       "    .dataframe tbody tr th:only-of-type {\n",
       "        vertical-align: middle;\n",
       "    }\n",
       "\n",
       "    .dataframe tbody tr th {\n",
       "        vertical-align: top;\n",
       "    }\n",
       "\n",
       "    .dataframe thead th {\n",
       "        text-align: right;\n",
       "    }\n",
       "</style>\n",
       "<table border=\"1\" class=\"dataframe\">\n",
       "  <thead>\n",
       "    <tr style=\"text-align: right;\">\n",
       "      <th></th>\n",
       "      <th>Earth</th>\n",
       "      <th>Super-Earth</th>\n",
       "      <th>Neptunian</th>\n",
       "      <th>Sub-Giant</th>\n",
       "      <th>Giant</th>\n",
       "    </tr>\n",
       "  </thead>\n",
       "  <tbody>\n",
       "    <tr>\n",
       "      <th>count</th>\n",
       "      <td>100000.000000</td>\n",
       "      <td>100000.000000</td>\n",
       "      <td>100000.000000</td>\n",
       "      <td>100000.000000</td>\n",
       "      <td>100000.000000</td>\n",
       "    </tr>\n",
       "    <tr>\n",
       "      <th>mean</th>\n",
       "      <td>0.229446</td>\n",
       "      <td>0.357562</td>\n",
       "      <td>0.004334</td>\n",
       "      <td>0.006752</td>\n",
       "      <td>-0.040321</td>\n",
       "    </tr>\n",
       "    <tr>\n",
       "      <th>std</th>\n",
       "      <td>0.975565</td>\n",
       "      <td>0.890859</td>\n",
       "      <td>0.252401</td>\n",
       "      <td>0.088295</td>\n",
       "      <td>0.168177</td>\n",
       "    </tr>\n",
       "    <tr>\n",
       "      <th>min</th>\n",
       "      <td>-4.200000</td>\n",
       "      <td>-3.666667</td>\n",
       "      <td>-1.433333</td>\n",
       "      <td>-0.633333</td>\n",
       "      <td>-1.133333</td>\n",
       "    </tr>\n",
       "    <tr>\n",
       "      <th>25%</th>\n",
       "      <td>-0.333333</td>\n",
       "      <td>-0.133333</td>\n",
       "      <td>-0.033333</td>\n",
       "      <td>0.000000</td>\n",
       "      <td>-0.033333</td>\n",
       "    </tr>\n",
       "    <tr>\n",
       "      <th>50%</th>\n",
       "      <td>0.166667</td>\n",
       "      <td>0.366667</td>\n",
       "      <td>0.000000</td>\n",
       "      <td>0.000000</td>\n",
       "      <td>0.000000</td>\n",
       "    </tr>\n",
       "    <tr>\n",
       "      <th>75%</th>\n",
       "      <td>0.766667</td>\n",
       "      <td>0.900000</td>\n",
       "      <td>0.100000</td>\n",
       "      <td>0.033333</td>\n",
       "      <td>0.000000</td>\n",
       "    </tr>\n",
       "    <tr>\n",
       "      <th>max</th>\n",
       "      <td>4.700000</td>\n",
       "      <td>4.366667</td>\n",
       "      <td>1.200000</td>\n",
       "      <td>0.566667</td>\n",
       "      <td>0.700000</td>\n",
       "    </tr>\n",
       "  </tbody>\n",
       "</table>\n",
       "</div>"
      ],
      "text/plain": [
       "               Earth    Super-Earth      Neptunian      Sub-Giant  \\\n",
       "count  100000.000000  100000.000000  100000.000000  100000.000000   \n",
       "mean        0.229446       0.357562       0.004334       0.006752   \n",
       "std         0.975565       0.890859       0.252401       0.088295   \n",
       "min        -4.200000      -3.666667      -1.433333      -0.633333   \n",
       "25%        -0.333333      -0.133333      -0.033333       0.000000   \n",
       "50%         0.166667       0.366667       0.000000       0.000000   \n",
       "75%         0.766667       0.900000       0.100000       0.033333   \n",
       "max         4.700000       4.366667       1.200000       0.566667   \n",
       "\n",
       "               Giant  \n",
       "count  100000.000000  \n",
       "mean       -0.040321  \n",
       "std         0.168177  \n",
       "min        -1.133333  \n",
       "25%        -0.033333  \n",
       "50%         0.000000  \n",
       "75%         0.000000  \n",
       "max         0.700000  "
      ]
     },
     "execution_count": 8,
     "metadata": {},
     "output_type": "execute_result"
    }
   ],
   "source": [
    "prediction_parameter_dict = {\n",
    "    \"categories\": categories,\n",
    "    \"host_star_mass\": host_star_mass,\n",
    "    \"variables\": samples,\n",
    "    \"return_full\": False,\n",
    "}\n",
    "\n",
    "full_model = planet_model.prediction(**prediction_parameter_dict)\n",
    "reduced_model = planet_model.prediction(\n",
    "    **prediction_parameter_dict, included_variables=included_variables\n",
    ")\n",
    "model_difference = full_model - reduced_model\n",
    "\n",
    "model_difference.describe()"
   ]
  },
  {
   "cell_type": "markdown",
   "id": "2fab6311-01f7-4657-8696-d1af606f37c0",
   "metadata": {},
   "source": [
    "## HYPERPARAMETER TUNING"
   ]
  },
  {
   "cell_type": "code",
   "execution_count": 9,
   "id": "2243f5d7-f53c-4cab-ab1b-00d0f9aa5efb",
   "metadata": {},
   "outputs": [],
   "source": [
    "# recreate original sample\n",
    "original_variables = planet_model.get_systems(population_id).variables\n",
    "original_sample = planet_model.prediction(\n",
    "    categories,\n",
    "    host_star_mass,\n",
    "    variables=original_variables,\n",
    "    return_full=True,\n",
    "    neighbors=1,\n",
    ")"
   ]
  },
  {
   "cell_type": "code",
   "execution_count": 10,
   "id": "65f8681f-5625-4cc6-a11e-dea5760360be",
   "metadata": {},
   "outputs": [
    {
     "name": "stdout",
     "output_type": "stream",
     "text": [
      "The optimal number of neighbors is: 30\n"
     ]
    }
   ],
   "source": [
    "# checking for optimal number of neighbors using k-fold cross-validation\n",
    "from sklearn.model_selection import train_test_split, cross_val_score\n",
    "from sklearn.neighbors import KNeighborsRegressor\n",
    "from sklearn.preprocessing import StandardScaler\n",
    "\n",
    "X = original_sample[list(included_variables)]\n",
    "X_scaled = StandardScaler().fit_transform(X)\n",
    "y = original_sample[categories]\n",
    "\n",
    "# perform cross validation on data\n",
    "neighbors = range(1, 101)  # Checking for neighbors from 1 to 100\n",
    "cv_scores = []  # cross validation scores\n",
    "for k in neighbors:\n",
    "    knn = KNeighborsRegressor(n_neighbors=k)\n",
    "    scores = cross_val_score(knn, X_scaled, y, cv=10)  # Using 10-fold CV\n",
    "    cv_scores.append(np.mean(scores))\n",
    "\n",
    "print(f\"The optimal number of neighbors is: {neighbors[np.argmax(cv_scores)]}\")"
   ]
  },
  {
   "cell_type": "markdown",
   "id": "0e5427fe-f295-4940-8d49-c8d42f221e9f",
   "metadata": {},
   "source": [
    "## INTERPOLATION BEHAVIOUR"
   ]
  },
  {
   "cell_type": "code",
   "execution_count": 26,
   "id": "a3c97d36-0d44-4951-a763-23a14cc4aca7",
   "metadata": {},
   "outputs": [],
   "source": [
    "num_bins = 100\n",
    "\n",
    "num_embryos = 50\n",
    "host_star_mass = 1\n",
    "\n",
    "planet_model = PlanetModel(num_embryos)\n",
    "population_id = planet_model.get_population_id(num_embryos, host_star_mass)\n",
    "\n",
    "category = \"Earth\"\n",
    "included_variables = (\"log_initial_mass\", \"[Fe/H]\")"
   ]
  },
  {
   "cell_type": "markdown",
   "id": "5025d37e-3fdb-420c-9e2f-c6a484930a46",
   "metadata": {},
   "source": [
    "### Grid of Monte Carlo Variables"
   ]
  },
  {
   "cell_type": "code",
   "execution_count": 27,
   "id": "cb934158-e4fd-4866-907b-8c971a9ca4ae",
   "metadata": {},
   "outputs": [],
   "source": [
    "variable_grid = planet_model.get_systems(population_id).variable_grid(\n",
    "    num_bins, included_variables=included_variables, as_dataframe=True\n",
    ")\n",
    "\n",
    "variable_grid[category] = planet_model.prediction(\n",
    "    category,\n",
    "    host_star_mass,\n",
    "    variables=variable_grid,\n",
    "    included_variables=included_variables,\n",
    "    return_full=False,\n",
    "    neighbors=30,\n",
    ")\n",
    "\n",
    "variable_grid, variable_labels = rename_labels(variable_grid)"
   ]
  },
  {
   "cell_type": "code",
   "execution_count": 32,
   "id": "4b19711b-7877-4537-bd2f-719981490c77",
   "metadata": {},
   "outputs": [
    {
     "name": "stdout",
     "output_type": "stream",
     "text": [
      "Make big plot with all categories\n",
      "Why sort of linear, why shifting with mass? should I quantify that? probabaly to do with the fact that disc mass is product of both quantities, read up in formation paper how planetsimals grow again\n"
     ]
    }
   ],
   "source": [
    "print(\"Make big plot with all categories\")\n",
    "print(\n",
    "    \"Why sort of linear, why shifting with mass? should I quantify that? probabaly to do with the fact that disc mass is product of both quantities, read up in formation paper how planetsimals grow again\"\n",
    ")\n",
    "print(\n",
    "    \"Maybe reparametrize model in terms of solid mass. or at least give rough rule for that\"\n",
    ")"
   ]
  },
  {
   "cell_type": "code",
   "execution_count": 33,
   "id": "652d6dfa-c170-4986-ad68-1d1932d40ceb",
   "metadata": {},
   "outputs": [
    {
     "data": {
      "image/png": "[encoded data removed]",
      "text/plain": [
       "<Figure size 1850x1050 with 2 Axes>"
      ]
     },
     "metadata": {},
     "output_type": "display_data"
    }
   ],
   "source": [
    "contourplot = contour_plot(\n",
    "    *variable_labels,\n",
    "    hue=category,\n",
    "    data=variable_grid,\n",
    "    reshaping_bins=num_bins,\n",
    "    colorbar_label=f\"Number of {category}s\",\n",
    ")\n",
    "FigureProcessor(contourplot.figure).save(\n",
    "    \"contourplot.pdf\", sub_directory=figure_directory\n",
    ")"
   ]
  }
 ],
 "metadata": {
  "kernelspec": {
   "display_name": "Python 3 (ipykernel)",
   "language": "python",
   "name": "python3"
  },
  "language_info": {
   "codemirror_mode": {
    "name": "ipython",
    "version": 3
   },
   "file_extension": ".py",
   "mimetype": "text/x-python",
   "name": "python",
   "nbconvert_exporter": "python",
   "pygments_lexer": "ipython3",
   "version": "3.10.12"
  }
 },
 "nbformat": 4,
 "nbformat_minor": 5
}
