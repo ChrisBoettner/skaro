{
 "cells": [
  {
   "cell_type": "markdown",
   "id": "4e840b9b-d7e8-4741-9ef7-272b19385d21",
   "metadata": {},
   "source": [
    "## GENERAL SETUP"
   ]
  },
  {
   "cell_type": "code",
   "execution_count": 1,
   "id": "b26573b3-d443-49c3-bdba-438834c9fe9c",
   "metadata": {},
   "outputs": [],
   "source": [
    "%load_ext autoreload\n",
    "%autoreload 2\n",
    "%matplotlib inline"
   ]
  },
  {
   "cell_type": "code",
   "execution_count": 2,
   "id": "d8c1733b-0868-436c-8423-9679670e6ec5",
   "metadata": {},
   "outputs": [],
   "source": [
    "# load local version of gallifrey, before pip installed version, for debugging\n",
    "import pathlib\n",
    "import sys\n",
    "import os\n",
    "\n",
    "sys.path.append(str(pathlib.Path(os.getcwd()).parent.joinpath(\"src\")))"
   ]
  },
  {
   "cell_type": "code",
   "execution_count": 3,
   "id": "ade4a30a-4ee3-42e0-b50b-de49408c778d",
   "metadata": {},
   "outputs": [],
   "source": [
    "import numpy as np\n",
    "import pandas as pd\n",
    "import matplotlib.pyplot as plt\n",
    "import seaborn as sns\n",
    "\n",
    "from gallifrey.planets import PlanetModel\n",
    "from gallifrey.utilities.dataframe import rename_labels\n",
    "from gallifrey.visualization.visualization_utils import (\n",
    "    set_plot_defaults,\n",
    "    get_palette,\n",
    "    FigureProcessor,\n",
    "    contourplot,\n",
    ")"
   ]
  },
  {
   "cell_type": "markdown",
   "id": "a8329e0e-a7e9-488d-bf61-80d72c0f3a8d",
   "metadata": {},
   "source": [
    "## PLOT SETUP"
   ]
  },
  {
   "cell_type": "code",
   "execution_count": 4,
   "id": "91566348-9c27-473e-b683-6a6bb4d7a41c",
   "metadata": {},
   "outputs": [],
   "source": [
    "set_plot_defaults()\n",
    "figure_directory = \"Planet_model\""
   ]
  },
  {
   "cell_type": "markdown",
   "id": "86298dc5-9e87-4ab5-874f-f8c61463080a",
   "metadata": {},
   "source": [
    "## REDUCING DIMENSIONALITY"
   ]
  },
  {
   "cell_type": "code",
   "execution_count": 5,
   "id": "c0fc9fcd-0548-4db2-bc6b-100d8084086c",
   "metadata": {},
   "outputs": [],
   "source": [
    "num_samples = int(1e5)\n",
    "\n",
    "num_embryos = 50\n",
    "host_star_mass = 1\n",
    "\n",
    "planet_model = PlanetModel(num_embryos)\n",
    "population_id = planet_model.get_population_id(num_embryos, host_star_mass)\n",
    "\n",
    "categories = [\n",
    "    category\n",
    "    for category in planet_model.categories\n",
    "    if category not in [\"Dwarf\", \"D-Burner\"]\n",
    "]\n",
    "included_variables = (\"log_initial_mass\", \"[Fe/H]\")"
   ]
  },
  {
   "cell_type": "markdown",
   "id": "c0dc954a-5d32-4ce9-95d7-7fc4c2ca4724",
   "metadata": {},
   "source": [
    "### Creating Sample of included Monte Carlo Variables"
   ]
  },
  {
   "cell_type": "code",
   "execution_count": 6,
   "id": "07b9677a-89c3-4928-b10e-097e752255f9",
   "metadata": {},
   "outputs": [],
   "source": [
    "bounds = {\n",
    "    variable: planet_model.get_systems(population_id).bounds[variable]\n",
    "    for variable in included_variables\n",
    "}\n",
    "samples = np.column_stack(\n",
    "    [np.random.uniform(bound[0], bound[1], num_samples) for bound in bounds.values()]\n",
    ")\n",
    "samples = pd.DataFrame(samples, columns=bounds.keys())"
   ]
  },
  {
   "cell_type": "markdown",
   "id": "a5945a38-a13d-4a6d-b718-12a374f7891a",
   "metadata": {},
   "source": [
    "### Compare behaviour of full and reduced model"
   ]
  },
  {
   "cell_type": "code",
   "execution_count": 7,
   "id": "9f825bd7-5105-4f84-a83d-8caaca0baaa6",
   "metadata": {},
   "outputs": [],
   "source": [
    "prediction_parameter_dict = {\n",
    "    \"categories\": categories,\n",
    "    \"host_star_mass\": host_star_mass,\n",
    "    \"variables\": samples,\n",
    "    \"return_full\": False,\n",
    "}\n",
    "\n",
    "full_model_pred = planet_model.prediction(**prediction_parameter_dict)\n",
    "reduced_model_pred = planet_model.prediction(\n",
    "    **prediction_parameter_dict, included_variables=included_variables\n",
    ")"
   ]
  },
  {
   "cell_type": "code",
   "execution_count": 8,
   "id": "cb367750-22f8-4221-8070-c245d8194e37",
   "metadata": {},
   "outputs": [
    {
     "data": {
      "text/html": [
       "<div>\n",
       "<style scoped>\n",
       "    .dataframe tbody tr th:only-of-type {\n",
       "        vertical-align: middle;\n",
       "    }\n",
       "\n",
       "    .dataframe tbody tr th {\n",
       "        vertical-align: top;\n",
       "    }\n",
       "\n",
       "    .dataframe thead th {\n",
       "        text-align: right;\n",
       "    }\n",
       "</style>\n",
       "<table border=\"1\" class=\"dataframe\">\n",
       "  <thead>\n",
       "    <tr style=\"text-align: right;\">\n",
       "      <th></th>\n",
       "      <th>Earth</th>\n",
       "      <th>Super-Earth</th>\n",
       "      <th>Neptunian</th>\n",
       "      <th>Sub-Giant</th>\n",
       "      <th>Giant</th>\n",
       "    </tr>\n",
       "  </thead>\n",
       "  <tbody>\n",
       "    <tr>\n",
       "      <th>count</th>\n",
       "      <td>100000.000000</td>\n",
       "      <td>100000.000000</td>\n",
       "      <td>100000.000000</td>\n",
       "      <td>100000.000000</td>\n",
       "      <td>100000.000000</td>\n",
       "    </tr>\n",
       "    <tr>\n",
       "      <th>mean</th>\n",
       "      <td>4.129702</td>\n",
       "      <td>3.392016</td>\n",
       "      <td>0.431273</td>\n",
       "      <td>0.072907</td>\n",
       "      <td>0.310048</td>\n",
       "    </tr>\n",
       "    <tr>\n",
       "      <th>std</th>\n",
       "      <td>2.066950</td>\n",
       "      <td>2.166490</td>\n",
       "      <td>0.429514</td>\n",
       "      <td>0.105292</td>\n",
       "      <td>0.472369</td>\n",
       "    </tr>\n",
       "    <tr>\n",
       "      <th>min</th>\n",
       "      <td>0.300000</td>\n",
       "      <td>0.000000</td>\n",
       "      <td>0.000000</td>\n",
       "      <td>0.000000</td>\n",
       "      <td>0.000000</td>\n",
       "    </tr>\n",
       "    <tr>\n",
       "      <th>25%</th>\n",
       "      <td>2.233333</td>\n",
       "      <td>1.300000</td>\n",
       "      <td>0.000000</td>\n",
       "      <td>0.000000</td>\n",
       "      <td>0.000000</td>\n",
       "    </tr>\n",
       "    <tr>\n",
       "      <th>50%</th>\n",
       "      <td>4.466667</td>\n",
       "      <td>3.533333</td>\n",
       "      <td>0.333333</td>\n",
       "      <td>0.000000</td>\n",
       "      <td>0.000000</td>\n",
       "    </tr>\n",
       "    <tr>\n",
       "      <th>75%</th>\n",
       "      <td>5.900000</td>\n",
       "      <td>5.333333</td>\n",
       "      <td>0.766667</td>\n",
       "      <td>0.133333</td>\n",
       "      <td>0.500000</td>\n",
       "    </tr>\n",
       "    <tr>\n",
       "      <th>max</th>\n",
       "      <td>8.733333</td>\n",
       "      <td>8.500000</td>\n",
       "      <td>2.100000</td>\n",
       "      <td>0.633333</td>\n",
       "      <td>1.833333</td>\n",
       "    </tr>\n",
       "  </tbody>\n",
       "</table>\n",
       "</div>"
      ],
      "text/plain": [
       "               Earth    Super-Earth      Neptunian      Sub-Giant  \\\n",
       "count  100000.000000  100000.000000  100000.000000  100000.000000   \n",
       "mean        4.129702       3.392016       0.431273       0.072907   \n",
       "std         2.066950       2.166490       0.429514       0.105292   \n",
       "min         0.300000       0.000000       0.000000       0.000000   \n",
       "25%         2.233333       1.300000       0.000000       0.000000   \n",
       "50%         4.466667       3.533333       0.333333       0.000000   \n",
       "75%         5.900000       5.333333       0.766667       0.133333   \n",
       "max         8.733333       8.500000       2.100000       0.633333   \n",
       "\n",
       "               Giant  \n",
       "count  100000.000000  \n",
       "mean        0.310048  \n",
       "std         0.472369  \n",
       "min         0.000000  \n",
       "25%         0.000000  \n",
       "50%         0.000000  \n",
       "75%         0.500000  \n",
       "max         1.833333  "
      ]
     },
     "execution_count": 8,
     "metadata": {},
     "output_type": "execute_result"
    }
   ],
   "source": [
    "full_model_pred.describe()"
   ]
  },
  {
   "cell_type": "code",
   "execution_count": 9,
   "id": "53f8584d-0ce6-460a-9fe1-f2179e20d6c0",
   "metadata": {},
   "outputs": [
    {
     "data": {
      "text/html": [
       "<div>\n",
       "<style scoped>\n",
       "    .dataframe tbody tr th:only-of-type {\n",
       "        vertical-align: middle;\n",
       "    }\n",
       "\n",
       "    .dataframe tbody tr th {\n",
       "        vertical-align: top;\n",
       "    }\n",
       "\n",
       "    .dataframe thead th {\n",
       "        text-align: right;\n",
       "    }\n",
       "</style>\n",
       "<table border=\"1\" class=\"dataframe\">\n",
       "  <thead>\n",
       "    <tr style=\"text-align: right;\">\n",
       "      <th></th>\n",
       "      <th>Earth</th>\n",
       "      <th>Super-Earth</th>\n",
       "      <th>Neptunian</th>\n",
       "      <th>Sub-Giant</th>\n",
       "      <th>Giant</th>\n",
       "    </tr>\n",
       "  </thead>\n",
       "  <tbody>\n",
       "    <tr>\n",
       "      <th>count</th>\n",
       "      <td>100000.000000</td>\n",
       "      <td>100000.000000</td>\n",
       "      <td>100000.000000</td>\n",
       "      <td>100000.000000</td>\n",
       "      <td>100000.000000</td>\n",
       "    </tr>\n",
       "    <tr>\n",
       "      <th>mean</th>\n",
       "      <td>3.902682</td>\n",
       "      <td>3.027717</td>\n",
       "      <td>0.428408</td>\n",
       "      <td>0.066386</td>\n",
       "      <td>0.350989</td>\n",
       "    </tr>\n",
       "    <tr>\n",
       "      <th>std</th>\n",
       "      <td>2.322829</td>\n",
       "      <td>2.584546</td>\n",
       "      <td>0.526416</td>\n",
       "      <td>0.126262</td>\n",
       "      <td>0.580746</td>\n",
       "    </tr>\n",
       "    <tr>\n",
       "      <th>min</th>\n",
       "      <td>0.566667</td>\n",
       "      <td>0.000000</td>\n",
       "      <td>0.000000</td>\n",
       "      <td>0.000000</td>\n",
       "      <td>0.000000</td>\n",
       "    </tr>\n",
       "    <tr>\n",
       "      <th>25%</th>\n",
       "      <td>1.500000</td>\n",
       "      <td>0.466667</td>\n",
       "      <td>0.000000</td>\n",
       "      <td>0.000000</td>\n",
       "      <td>0.000000</td>\n",
       "    </tr>\n",
       "    <tr>\n",
       "      <th>50%</th>\n",
       "      <td>3.933333</td>\n",
       "      <td>2.533333</td>\n",
       "      <td>0.233333</td>\n",
       "      <td>0.000000</td>\n",
       "      <td>0.000000</td>\n",
       "    </tr>\n",
       "    <tr>\n",
       "      <th>75%</th>\n",
       "      <td>6.100000</td>\n",
       "      <td>5.533333</td>\n",
       "      <td>0.700000</td>\n",
       "      <td>0.066667</td>\n",
       "      <td>0.533333</td>\n",
       "    </tr>\n",
       "    <tr>\n",
       "      <th>max</th>\n",
       "      <td>8.866667</td>\n",
       "      <td>8.166667</td>\n",
       "      <td>2.266667</td>\n",
       "      <td>0.766667</td>\n",
       "      <td>1.800000</td>\n",
       "    </tr>\n",
       "  </tbody>\n",
       "</table>\n",
       "</div>"
      ],
      "text/plain": [
       "               Earth    Super-Earth      Neptunian      Sub-Giant  \\\n",
       "count  100000.000000  100000.000000  100000.000000  100000.000000   \n",
       "mean        3.902682       3.027717       0.428408       0.066386   \n",
       "std         2.322829       2.584546       0.526416       0.126262   \n",
       "min         0.566667       0.000000       0.000000       0.000000   \n",
       "25%         1.500000       0.466667       0.000000       0.000000   \n",
       "50%         3.933333       2.533333       0.233333       0.000000   \n",
       "75%         6.100000       5.533333       0.700000       0.066667   \n",
       "max         8.866667       8.166667       2.266667       0.766667   \n",
       "\n",
       "               Giant  \n",
       "count  100000.000000  \n",
       "mean        0.350989  \n",
       "std         0.580746  \n",
       "min         0.000000  \n",
       "25%         0.000000  \n",
       "50%         0.000000  \n",
       "75%         0.533333  \n",
       "max         1.800000  "
      ]
     },
     "execution_count": 9,
     "metadata": {},
     "output_type": "execute_result"
    }
   ],
   "source": [
    "reduced_model_pred.describe()"
   ]
  },
  {
   "cell_type": "markdown",
   "id": "2fab6311-01f7-4657-8696-d1af606f37c0",
   "metadata": {},
   "source": [
    "## HYPERPARAMETER TUNING"
   ]
  },
  {
   "cell_type": "code",
   "execution_count": 10,
   "id": "2243f5d7-f53c-4cab-ab1b-00d0f9aa5efb",
   "metadata": {},
   "outputs": [],
   "source": [
    "# recreate original sample\n",
    "original_variables = planet_model.get_systems(population_id).variables\n",
    "original_sample = planet_model.prediction(\n",
    "    categories,\n",
    "    host_star_mass,\n",
    "    variables=original_variables,\n",
    "    return_full=True,\n",
    "    neighbors=1,\n",
    ")"
   ]
  },
  {
   "cell_type": "code",
   "execution_count": 11,
   "id": "65f8681f-5625-4cc6-a11e-dea5760360be",
   "metadata": {},
   "outputs": [
    {
     "name": "stdout",
     "output_type": "stream",
     "text": [
      "Best parameter: {'n_neighbors': 30, 'weights': 'uniform'}\n"
     ]
    }
   ],
   "source": [
    "# checking for optimal number of neighbors using k-fold cross-validation\n",
    "from sklearn.model_selection import train_test_split, cross_val_score, GridSearchCV\n",
    "from sklearn.neighbors import KNeighborsRegressor\n",
    "from sklearn.preprocessing import StandardScaler\n",
    "\n",
    "X = original_sample[list(included_variables)]\n",
    "X_scaled = StandardScaler().fit_transform(X)\n",
    "y = original_sample[categories]\n",
    "\n",
    "# perform hyperparameter optimization using cross validation on data\n",
    "hyperparameter_grid = {\"n_neighbors\": range(1, 101), \"weights\": [\"uniform\", \"distance\"]}\n",
    "\n",
    "hp_search = GridSearchCV(\n",
    "    KNeighborsRegressor(), hyperparameter_grid, cv=10\n",
    ")  # Using 10-fold CV\n",
    "hp_search.fit(X_scaled, y)\n",
    "\n",
    "print(f\"Best parameter: {hp_search.best_params_}\")"
   ]
  },
  {
   "cell_type": "markdown",
   "id": "0e5427fe-f295-4940-8d49-c8d42f221e9f",
   "metadata": {},
   "source": [
    "## MODEL BEHAVIOUR"
   ]
  },
  {
   "cell_type": "code",
   "execution_count": 12,
   "id": "a3c97d36-0d44-4951-a763-23a14cc4aca7",
   "metadata": {},
   "outputs": [],
   "source": [
    "num_bins = 140\n",
    "included_variables = (\"[Fe/H]\", \"log_initial_mass\")"
   ]
  },
  {
   "cell_type": "markdown",
   "id": "5025d37e-3fdb-420c-9e2f-c6a484930a46",
   "metadata": {},
   "source": [
    "### Grid of Monte Carlo Variables"
   ]
  },
  {
   "cell_type": "code",
   "execution_count": 13,
   "id": "cb934158-e4fd-4866-907b-8c971a9ca4ae",
   "metadata": {},
   "outputs": [],
   "source": [
    "variable_grid = planet_model.get_systems(population_id).variable_grid(\n",
    "    num_bins,\n",
    "    included_variables=included_variables,\n",
    "    as_dataframe=True,\n",
    ")\n",
    "\n",
    "grid_results = planet_model.prediction(\n",
    "    categories,\n",
    "    host_star_mass,\n",
    "    variables=variable_grid,\n",
    "    included_variables=included_variables,\n",
    "    return_full=True,\n",
    ")\n",
    "\n",
    "grid_results = planet_model.calculate_solid_mass(grid_results, return_full=True)\n",
    "\n",
    "grid_results, variable_labels = rename_labels(grid_results)"
   ]
  },
  {
   "cell_type": "code",
   "execution_count": 15,
   "id": "652d6dfa-c170-4986-ad68-1d1932d40ceb",
   "metadata": {},
   "outputs": [
    {
     "ename": "IndentationError",
     "evalue": "unindent does not match any outer indentation level (<tokenize>, line 27)",
     "output_type": "error",
     "traceback": [
      "\u001b[0;36m  File \u001b[0;32m<tokenize>:27\u001b[0;36m\u001b[0m\n\u001b[0;31m    axes[0].scatter(\u001b[0m\n\u001b[0m    ^\u001b[0m\n\u001b[0;31mIndentationError\u001b[0m\u001b[0;31m:\u001b[0m unindent does not match any outer indentation level\n"
     ]
    }
   ],
   "source": [
    "for category in categories:\n",
    "     contour_plot, axes = contourplot(\n",
    "        data=grid_results,\n",
    "        x=variable_labels[0],\n",
    "        y=variable_labels[1],\n",
    "        hue=category,\n",
    "        reshaping_bins=num_bins,\n",
    "        bin_window=4,\n",
    "        additional_contours=variable_labels[2],\n",
    "        cmap=get_palette(reverse=True, as_cmap=True),\n",
    "        colorbar_label=f\"Number of {category}s\",\n",
    "        square_aspect_ratio=True,\n",
    "        outline=True,\n",
    "        prune_lowest=True,\n",
    "        contour_label_fmt=lambda log_solid_mass: \"%1.1f\" % (10**log_solid_mass),\n",
    "        kws={\"alpha\": 0.9},\n",
    "        okws={\"linewidths\": 3},\n",
    "        ackws={\n",
    "            \"levels\": [-1.2, -0.8, -0.4, 0, 0.4],\n",
    "            \"colors\": \"white\",\n",
    "            \"linestyles\": \"dashed\",\n",
    "            \"zorder\": 10,\n",
    "            \"alpha\": 0.9,\n",
    "        },\n",
    "    )\n",
    "    # add locations of original sample\n",
    "    axes[0].scatter(\n",
    "        x=original_sample[\"[Fe/H]\"],\n",
    "        y=original_sample[\"log_initial_mass\"],\n",
    "        color=\"grey\",\n",
    "        marker=\"x\",\n",
    "        alpha=0.5,\n",
    "        s=30,\n",
    "        zorder=9,\n",
    "    )\n",
    "\n",
    "    # save figure\n",
    "    FigureProcessor(contour_plot.figure).save(\n",
    "        f\"contourplot_{category}.pdf\", sub_directory=figure_directory\n",
    "    )"
   ]
  }
 ],
 "metadata": {
  "kernelspec": {
   "display_name": "Python 3 (ipykernel)",
   "language": "python",
   "name": "python3"
  },
  "language_info": {
   "codemirror_mode": {
    "name": "ipython",
    "version": 3
   },
   "file_extension": ".py",
   "mimetype": "text/x-python",
   "name": "python",
   "nbconvert_exporter": "python",
   "pygments_lexer": "ipython3",
   "version": "3.10.12"
  }
 },
 "nbformat": 4,
 "nbformat_minor": 5
}
