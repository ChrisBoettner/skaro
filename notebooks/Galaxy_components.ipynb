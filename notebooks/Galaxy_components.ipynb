{
 "cells": [
  {
   "cell_type": "code",
   "execution_count": 1,
   "id": "d63901ce-0160-47ab-9fab-e746e1fbc44f",
   "metadata": {},
   "outputs": [],
   "source": [
    "%load_ext autoreload\n",
    "%autoreload 2\n",
    "%matplotlib inline"
   ]
  },
  {
   "cell_type": "code",
   "execution_count": 2,
   "id": "e4e268e6-5954-49e0-b6bd-94ce23d88e34",
   "metadata": {},
   "outputs": [],
   "source": [
    "# load local version of gallifrey, before pip installed version, for debugging\n",
    "import pathlib\n",
    "import sys\n",
    "import os\n",
    "\n",
    "sys.path.append(str(pathlib.Path(os.getcwd()).parent.joinpath(\"src\")))"
   ]
  },
  {
   "cell_type": "code",
   "execution_count": null,
   "id": "2c80ccda-809a-4526-9ba6-1d62124a2fdd",
   "metadata": {},
   "outputs": [],
   "source": [
    "import yt\n",
    "import numpy as np\n",
    "import pandas as pd\n",
    "import matplotlib.pyplot as plt\n",
    "import seaborn as sns\n",
    "\n",
    "from gallifrey.setup import data_setup\n",
    "from gallifrey.utilities.math import calculate_pca\n",
    "from gallifrey.utilities.dataframe import aggregated_dataframe, rename_labels\n",
    "from gallifrey.visualization.visualization_utils import (\n",
    "    set_plot_defaults,\n",
    "    get_palette,\n",
    "    FigureProcessor,\n",
    "    ridgeplot,\n",
    ")"
   ]
  },
  {
   "cell_type": "markdown",
   "id": "4d25d0db-24c5-47b7-b3fe-97bb8da1f7be",
   "metadata": {},
   "source": [
    "## DATA SETUP"
   ]
  },
  {
   "cell_type": "code",
   "execution_count": null,
   "id": "597e98bd-d2ed-427b-bc67-ac0ab427b29b",
   "metadata": {},
   "outputs": [],
   "source": [
    "snapshot = 127\n",
    "resolution = 8192\n",
    "sim_id = \"37_11\""
   ]
  },
  {
   "cell_type": "code",
   "execution_count": null,
   "id": "7a1ba7f2-9f0f-4707-96dc-8d10c262d3bb",
   "metadata": {},
   "outputs": [],
   "source": [
    "ds, mw, stellar_model, imf, planet_model, path = data_setup(\n",
    "    snapshot=snapshot,\n",
    "    resolution=resolution,\n",
    "    sim_id=sim_id,\n",
    ")"
   ]
  },
  {
   "cell_type": "markdown",
   "id": "5d0ab97a-5634-45cd-ae67-192cee9fdb31",
   "metadata": {},
   "source": [
    "## PLOT SETUP"
   ]
  },
  {
   "cell_type": "code",
   "execution_count": null,
   "id": "4d01a404-c459-4a0e-8030-bb55d7b2ad78",
   "metadata": {},
   "outputs": [],
   "source": [
    "set_plot_defaults()\n",
    "\n",
    "figure_directory = (\n",
    "    f\"MilkyWayAnalogue/{resolution}/{sim_id}/{snapshot}/Galaxy_components\"\n",
    ")\n",
    "save = True"
   ]
  },
  {
   "cell_type": "markdown",
   "id": "612d916c-cd5d-452c-a4fa-90e5dcc3c7bb",
   "metadata": {},
   "source": [
    "## CREATE DATA SOURCE"
   ]
  },
  {
   "cell_type": "code",
   "execution_count": null,
   "id": "ad469bbb-f04e-407e-83d6-c974a2bf0635",
   "metadata": {},
   "outputs": [],
   "source": [
    "radius = 0.2 * mw.virial_radius()\n",
    "sphere_data = mw.sphere(radius=radius)"
   ]
  },
  {
   "cell_type": "code",
   "execution_count": null,
   "id": "ce7150f8-08e3-4356-a06e-7a86664f3a98",
   "metadata": {},
   "outputs": [],
   "source": [
    "components = [\"bulge_stars\", \"thin_disk_stars\", \"thick_disk_stars\", \"halo_stars\"]\n",
    "data = aggregated_dataframe(\n",
    "    components,\n",
    "    [\n",
    "        \"[Fe/H]\",\n",
    "        \"stellar_age\",\n",
    "        \"Masses\",\n",
    "    ],\n",
    "    data_source=sphere_data,\n",
    "    type_name=\"Component\",\n",
    "    custom_units={\"stellar_age\": \"Gyr\"},\n",
    ")\n",
    "\n",
    "# rename components\n",
    "data[\"Component\"] = data[\"Component\"].apply(\n",
    "    lambda type: type.replace(\"_\", \" \").replace(\" stars\", \"\").title()\n",
    "    if type.endswith(\"_stars\")\n",
    "    else type\n",
    ")\n",
    "\n",
    "# filtering values\n",
    "filters = {\"[Fe/H]\": (-2.5, 1)}\n",
    "for field_value, ranges in filters.items():\n",
    "    data = data[data[field_value].between(*ranges)]\n",
    "\n",
    "# rename labels\n",
    "data, labels = rename_labels(data)"
   ]
  },
  {
   "cell_type": "markdown",
   "id": "ed620f9b-7a6a-47aa-95de-192e6433a94a",
   "metadata": {},
   "source": [
    "## FRACTION OF MASS IN COMPONENTS"
   ]
  },
  {
   "cell_type": "code",
   "execution_count": null,
   "id": "80845244-5d32-4fd5-a990-772a7346f7d0",
   "metadata": {},
   "outputs": [],
   "source": [
    "data.groupby(\"Component\")[\"Masses\"].sum()"
   ]
  },
  {
   "cell_type": "code",
   "execution_count": null,
   "id": "e30e20e4-bbc3-4ae3-9bf3-a56d97d9dbfa",
   "metadata": {},
   "outputs": [],
   "source": [
    "data.groupby(\"Component\")[\"Masses\"].sum() / data[\"Masses\"].sum()"
   ]
  },
  {
   "cell_type": "markdown",
   "id": "2cb149ee-ea25-4a1d-bb28-68b0adae22fb",
   "metadata": {},
   "source": [
    "## STELLAR AGE IN COMPONENTS"
   ]
  },
  {
   "cell_type": "code",
   "execution_count": null,
   "id": "c3763872-aa71-4262-b502-3a7bae690ef8",
   "metadata": {},
   "outputs": [],
   "source": [
    "data.groupby(\"Component\")[labels[\"stellar_age\"]].describe().T"
   ]
  },
  {
   "cell_type": "code",
   "execution_count": null,
   "id": "65f0e267-5416-41e6-a50c-1662b495e8d4",
   "metadata": {},
   "outputs": [],
   "source": [
    "ridgeplot_age = ridgeplot(\n",
    "    data,\n",
    "    x=labels[\"stellar_age\"],\n",
    "    row=\"Component\",\n",
    "    palette=get_palette(n_colors=4),\n",
    "    label_position=[0.98, 0.22],\n",
    ")\n",
    "FigureProcessor(ridgeplot_age.figure).save(\n",
    "    \"ridgeplot_age.pdf\",\n",
    "    sub_directory=figure_directory,\n",
    "    save=save,\n",
    ")"
   ]
  },
  {
   "cell_type": "markdown",
   "id": "001b754b-a5b5-49aa-b100-a95b24eb3e6e",
   "metadata": {},
   "source": [
    "## METALLICITY IN COMPONENTS"
   ]
  },
  {
   "cell_type": "code",
   "execution_count": null,
   "id": "afffff69-4d51-4cec-8d30-7d6dde1e3b93",
   "metadata": {},
   "outputs": [],
   "source": [
    "data.groupby(\"Component\")[\"[Fe/H]\"].describe().T"
   ]
  },
  {
   "cell_type": "code",
   "execution_count": null,
   "id": "555932cd-3da0-44a5-b337-55f1774c41dd",
   "metadata": {},
   "outputs": [],
   "source": [
    "ridgeplot_metallicity = ridgeplot(\n",
    "    data,\n",
    "    x=labels[\"[Fe/H]\"],\n",
    "    row=\"Component\",\n",
    "    palette=get_palette(n_colors=4),\n",
    "    label_position=[0.34, 0.22],\n",
    ")\n",
    "FigureProcessor(ridgeplot_metallicity.figure).save(\n",
    "    \"ridgeplot_metallicity.pdf\",\n",
    "    sub_directory=figure_directory,\n",
    "    save=save,\n",
    ")"
   ]
  },
  {
   "cell_type": "markdown",
   "id": "145ff86c-66ab-494d-a8d6-ea33d7a5d7f9",
   "metadata": {},
   "source": [
    "## PRICIPAL COMPONENTS"
   ]
  },
  {
   "cell_type": "code",
   "execution_count": null,
   "id": "bde95606-657e-434b-b119-30847ecf010c",
   "metadata": {},
   "outputs": [],
   "source": [
    "variance_ratios = pd.DataFrame(\n",
    "    np.array(\n",
    "        [\n",
    "            calculate_pca(\n",
    "                sphere_data[component, \"particle_position\"].to(\"kpc\")\n",
    "            ).explained_variance_ratio_\n",
    "            for component in components\n",
    "        ]\n",
    "    ).T,\n",
    "    columns=components,\n",
    ").T\n",
    "\n",
    "print(\"Minor-to-major axis ratio:\")\n",
    "print(variance_ratios[2] / variance_ratios[0])"
   ]
  }
 ],
 "metadata": {
  "kernelspec": {
   "display_name": "Python 3 (ipykernel)",
   "language": "python",
   "name": "python3"
  },
  "language_info": {
   "codemirror_mode": {
    "name": "ipython",
    "version": 3
   },
   "file_extension": ".py",
   "mimetype": "text/x-python",
   "name": "python",
   "nbconvert_exporter": "python",
   "pygments_lexer": "ipython3",
   "version": "3.10.12"
  }
 },
 "nbformat": 4,
 "nbformat_minor": 5
}
