{
 "cells": [
  {
   "cell_type": "code",
   "execution_count": 1,
   "id": "d63901ce-0160-47ab-9fab-e746e1fbc44f",
   "metadata": {},
   "outputs": [],
   "source": [
    "%load_ext autoreload\n",
    "%autoreload 2\n",
    "%matplotlib inline"
   ]
  },
  {
   "cell_type": "code",
   "execution_count": 2,
   "id": "e4e268e6-5954-49e0-b6bd-94ce23d88e34",
   "metadata": {},
   "outputs": [],
   "source": [
    "# load local version of gallifrey, before pip installed version, for debugging\n",
    "import pathlib\n",
    "import sys\n",
    "import os\n",
    "\n",
    "sys.path.append(str(pathlib.Path(os.getcwd()).parent.joinpath(\"src\")))"
   ]
  },
  {
   "cell_type": "code",
   "execution_count": 3,
   "id": "2c80ccda-809a-4526-9ba6-1d62124a2fdd",
   "metadata": {},
   "outputs": [],
   "source": [
    "import matplotlib.pyplot as plt\n",
    "import numpy as np\n",
    "import pandas as pd\n",
    "import seaborn as sns\n",
    "import yt\n",
    "from matplotlib.ticker import ScalarFormatter\n",
    "\n",
    "from gallifrey.analysis import count_planets\n",
    "from gallifrey.model import Model\n",
    "from gallifrey.utilities.dataframe import (\n",
    "    rename_labels,\n",
    "    rename_entries,\n",
    "    aggregated_dataframe,\n",
    ")\n",
    "from gallifrey.utilities.math import calculate_pca\n",
    "from gallifrey.visualization.visualization_utils import (\n",
    "    FigureProcessor,\n",
    "    adjust_legend,\n",
    "    get_palette,\n",
    "    ridgeplot,\n",
    "    set_plot_defaults,\n",
    ")"
   ]
  },
  {
   "cell_type": "markdown",
   "id": "4d25d0db-24c5-47b7-b3fe-97bb8da1f7be",
   "metadata": {},
   "source": [
    "## DATA SETUP"
   ]
  },
  {
   "cell_type": "code",
   "execution_count": 4,
   "id": "597e98bd-d2ed-427b-bc67-ac0ab427b29b",
   "metadata": {},
   "outputs": [],
   "source": [
    "snapshot = 127\n",
    "resolution = 8192\n",
    "sim_id = \"37_11\"\n",
    "num_embryos = 50\n",
    "host_star_masses = 1\n",
    "planet_categories = [\n",
    "    \"Earth\",\n",
    "    \"Super-Earth\",\n",
    "    \"Neptunian\",\n",
    "    \"Sub-Giant\",\n",
    "    \"Giant\",\n",
    "]"
   ]
  },
  {
   "cell_type": "code",
   "execution_count": 5,
   "id": "7a1ba7f2-9f0f-4707-96dc-8d10c262d3bb",
   "metadata": {},
   "outputs": [
    {
     "name": "stderr",
     "output_type": "stream",
     "text": [
      "yt : [INFO     ] 2023-11-24 11:45:07,786 Calculating time from 1.000e+00 to be 4.318e+17 seconds\n",
      "yt : [INFO     ] 2023-11-24 11:45:07,941 Parameters: current_time              = 4.318436660023809e+17 s\n",
      "yt : [INFO     ] 2023-11-24 11:45:07,943 Parameters: domain_dimensions         = [1 1 1]\n",
      "yt : [INFO     ] 2023-11-24 11:45:07,944 Parameters: domain_left_edge          = [0. 0. 0.]\n",
      "yt : [INFO     ] 2023-11-24 11:45:07,945 Parameters: domain_right_edge         = [100. 100. 100.]\n",
      "yt : [INFO     ] 2023-11-24 11:45:07,946 Parameters: cosmological_simulation   = 1\n",
      "yt : [INFO     ] 2023-11-24 11:45:07,947 Parameters: current_redshift          = 4.440892098500626e-16\n",
      "yt : [INFO     ] 2023-11-24 11:45:07,948 Parameters: omega_lambda              = 0.682\n",
      "yt : [INFO     ] 2023-11-24 11:45:07,949 Parameters: omega_matter              = 0.318\n",
      "yt : [INFO     ] 2023-11-24 11:45:07,949 Parameters: omega_radiation           = 0.0\n",
      "yt : [INFO     ] 2023-11-24 11:45:07,950 Parameters: hubble_constant           = 0.6777\n",
      "\n",
      "      TIMER: Block 'Loading Hestia Snapshot...' took 0.31 seconds.\n",
      "\n",
      "\n",
      "      FIELDS: Adding field ('PartType4', 'stellar_age') field with ages in Gyr.\n",
      "\n",
      "yt : [INFO     ] 2023-11-24 11:45:09,167 Allocating for 4.654e+08 particles\n",
      "Loading particle index: 100%|██████████| 587/587 [00:00<00:00, 1268.05it/s]\n",
      "\n",
      "      FIELDS: Adding field ('PartType4', 'InitialMass'), with masses in  'code_mass'.\n",
      "\n",
      "\n",
      "      STARS: 'stars' field derives from PartType4 field in age range: [0.02, inf] Gyr.\n",
      "\n",
      "\n",
      "      TIMER: Block 'Adding Stars...' took 4.55 seconds.\n",
      "\n",
      "\n",
      "      TIMER: Block 'Adding Planets...' took 3.19 seconds.\n",
      "\n",
      "\n",
      "      TIMER: Block 'Loading Particle IDs...' took 1.39 seconds.\n",
      "\n",
      "\n",
      "      DECOMPOSITION: Loading decomposition file.\n",
      "\n",
      "\n",
      "      TIMER: Block 'Galaxy Decomposition...' took 0.57 seconds.\n",
      "\n"
     ]
    }
   ],
   "source": [
    "model = Model(\n",
    "    snapshot=snapshot,\n",
    "    resolution=resolution,\n",
    "    sim_id=sim_id,\n",
    ")\n",
    "ds = model.ds\n",
    "mw = model.halo"
   ]
  },
  {
   "cell_type": "markdown",
   "id": "89834d65-db51-456d-a9ee-0d8278a65d78",
   "metadata": {},
   "source": [
    "## PLOT SETUP"
   ]
  },
  {
   "cell_type": "code",
   "execution_count": 6,
   "id": "4d01a404-c459-4a0e-8030-bb55d7b2ad78",
   "metadata": {},
   "outputs": [],
   "source": [
    "set_plot_defaults()\n",
    "\n",
    "figure_subdirectory = f\"MilkyWayAnalogue/{model.resolution}/{model.sim_id}/{model.snapshot}/Component_populations\"\n",
    "save = True"
   ]
  },
  {
   "cell_type": "markdown",
   "id": "cf861d0e-9936-43c4-846f-1510511069fd",
   "metadata": {},
   "source": [
    "## CREATE DATASOURCE"
   ]
  },
  {
   "cell_type": "code",
   "execution_count": 7,
   "id": "e36d0061-03c2-4d23-9bad-1b404dc607ff",
   "metadata": {},
   "outputs": [],
   "source": [
    "radius = 0.2 * mw.virial_radius()\n",
    "masses = [1]  # (0.1, 0.5, 1)\n",
    "components = [\"Bulge\", \"Thin Disk\", \"Thick Disk\", \"Halo\"]\n",
    "\n",
    "sphere = mw.sphere(radius=radius)"
   ]
  },
  {
   "cell_type": "markdown",
   "metadata": {},
   "source": [
    "## PLANET AGES PER COMPONENT"
   ]
  },
  {
   "cell_type": "code",
   "execution_count": 8,
   "metadata": {},
   "outputs": [],
   "source": [
    "data = aggregated_dataframe(\n",
    "    [\"bulge_stars\", \"thin_disk_stars\", \"thick_disk_stars\", \"halo_stars\"],\n",
    "    [\"stellar_age\", *planet_categories],\n",
    "    data_source=sphere,\n",
    "    type_name=\"Component\",\n",
    "    custom_units={\"stellar_age\": \"Gyr\"},\n",
    ")\n",
    "data = rename_entries(data)"
   ]
  },
  {
   "cell_type": "code",
   "execution_count": null,
   "metadata": {},
   "outputs": [
    {
     "data": {
      "text/html": [
       "<div>\n",
       "<style scoped>\n",
       "    .dataframe tbody tr th:only-of-type {\n",
       "        vertical-align: middle;\n",
       "    }\n",
       "\n",
       "    .dataframe tbody tr th {\n",
       "        vertical-align: top;\n",
       "    }\n",
       "\n",
       "    .dataframe thead tr th {\n",
       "        text-align: left;\n",
       "    }\n",
       "\n",
       "    .dataframe thead tr:last-of-type th {\n",
       "        text-align: right;\n",
       "    }\n",
       "</style>\n",
       "<table border=\"1\" class=\"dataframe\">\n",
       "  <thead>\n",
       "    <tr>\n",
       "      <th></th>\n",
       "      <th colspan=\"8\" halign=\"left\">stellar_age</th>\n",
       "    </tr>\n",
       "    <tr>\n",
       "      <th></th>\n",
       "      <th>count</th>\n",
       "      <th>mean</th>\n",
       "      <th>std</th>\n",
       "      <th>min</th>\n",
       "      <th>25%</th>\n",
       "      <th>50%</th>\n",
       "      <th>75%</th>\n",
       "      <th>max</th>\n",
       "    </tr>\n",
       "    <tr>\n",
       "      <th>Component</th>\n",
       "      <th></th>\n",
       "      <th></th>\n",
       "      <th></th>\n",
       "      <th></th>\n",
       "      <th></th>\n",
       "      <th></th>\n",
       "      <th></th>\n",
       "      <th></th>\n",
       "    </tr>\n",
       "  </thead>\n",
       "  <tbody>\n",
       "    <tr>\n",
       "      <th>bulge_stars</th>\n",
       "      <td>707269.0</td>\n",
       "      <td>8.613635</td>\n",
       "      <td>2.473027</td>\n",
       "      <td>0.021317</td>\n",
       "      <td>7.058386</td>\n",
       "      <td>9.049882</td>\n",
       "      <td>10.428129</td>\n",
       "      <td>13.592348</td>\n",
       "    </tr>\n",
       "    <tr>\n",
       "      <th>halo_stars</th>\n",
       "      <td>188691.0</td>\n",
       "      <td>9.687081</td>\n",
       "      <td>2.063464</td>\n",
       "      <td>0.030658</td>\n",
       "      <td>8.619065</td>\n",
       "      <td>9.951314</td>\n",
       "      <td>11.110012</td>\n",
       "      <td>13.536657</td>\n",
       "    </tr>\n",
       "    <tr>\n",
       "      <th>thick_disk_stars</th>\n",
       "      <td>154563.0</td>\n",
       "      <td>8.488042</td>\n",
       "      <td>2.022401</td>\n",
       "      <td>0.026203</td>\n",
       "      <td>7.078220</td>\n",
       "      <td>8.674826</td>\n",
       "      <td>9.868500</td>\n",
       "      <td>13.539622</td>\n",
       "    </tr>\n",
       "    <tr>\n",
       "      <th>thin_disk_stars</th>\n",
       "      <td>1498647.0</td>\n",
       "      <td>5.998274</td>\n",
       "      <td>2.440044</td>\n",
       "      <td>0.020019</td>\n",
       "      <td>4.637591</td>\n",
       "      <td>6.089130</td>\n",
       "      <td>7.584162</td>\n",
       "      <td>13.561366</td>\n",
       "    </tr>\n",
       "  </tbody>\n",
       "</table>\n",
       "</div>"
      ],
      "text/plain": [
       "                 stellar_age                                          \\\n",
       "                       count      mean       std       min       25%   \n",
       "Component                                                              \n",
       "bulge_stars         707269.0  8.613635  2.473027  0.021317  7.058386   \n",
       "halo_stars          188691.0  9.687081  2.063464  0.030658  8.619065   \n",
       "thick_disk_stars    154563.0  8.488042  2.022401  0.026203  7.078220   \n",
       "thin_disk_stars    1498647.0  5.998274  2.440044  0.020019  4.637591   \n",
       "\n",
       "                                                  \n",
       "                       50%        75%        max  \n",
       "Component                                         \n",
       "bulge_stars       9.049882  10.428129  13.592348  \n",
       "halo_stars        9.951314  11.110012  13.536657  \n",
       "thick_disk_stars  8.674826   9.868500  13.539622  \n",
       "thin_disk_stars   6.089130   7.584162  13.561366  "
      ]
     },
     "execution_count": 17,
     "metadata": {},
     "output_type": "execute_result"
    }
   ],
   "source": [
    "data.groupby(\"Component\").apply(lambda x: np.average(x.wt, weights=x.value))"
   ]
  },
  {
   "cell_type": "markdown",
   "id": "145ff86c-66ab-494d-a8d6-ea33d7a5d7f9",
   "metadata": {},
   "source": [
    "## OCCURENCE RATES PER COMPONENT"
   ]
  },
  {
   "cell_type": "code",
   "execution_count": 8,
   "metadata": {},
   "outputs": [
    {
     "name": "stderr",
     "output_type": "stream",
     "text": [
      "\n",
      "      CONFIG: Setting ngpps_star_masses to 0.1.\n",
      "\n",
      "\n",
      "      TIMER: Block 'Adding Planets...' took 3.42 seconds.\n",
      "\n",
      "\n",
      "      CONFIG: Setting ngpps_star_masses to 0.5.\n",
      "\n",
      "\n",
      "      TIMER: Block 'Adding Planets...' took 3.43 seconds.\n",
      "\n",
      "\n",
      "      CONFIG: Setting ngpps_star_masses to 1.\n",
      "\n",
      "\n",
      "      TIMER: Block 'Adding Planets...' took 3.22 seconds.\n",
      "\n"
     ]
    }
   ],
   "source": [
    "occurence_rate_long_format = {}\n",
    "for m in masses:\n",
    "    occurence_rate_long_format[m] = count_planets(\n",
    "        model,\n",
    "        lambda: mw.sphere(radius=radius),\n",
    "        planet_categories,\n",
    "        normalize_by=\"planet_hosting_number\",\n",
    "        model_config={\"ngpps_star_masses\": m},\n",
    "        long_format=True,\n",
    "        value_name=\"Occurence Rate\",\n",
    "    )"
   ]
  },
  {
   "cell_type": "code",
   "execution_count": null,
   "id": "11d9620d-8335-424a-b011-e74e95de080a",
   "metadata": {},
   "outputs": [],
   "source": [
    "def barplot(occurence_rate_long_format, host_star_mass):\n",
    "    plt.figure()\n",
    "    with sns.axes_style(\"ticks\"):\n",
    "        occurence_rate_barplot = sns.barplot(\n",
    "            data=occurence_rate_long_format,\n",
    "            x=\"Planet Type\",\n",
    "            y=\"Occurence Rate\",\n",
    "            hue=\"Component\",\n",
    "            hue_order=components,\n",
    "            log=True,\n",
    "            palette=get_palette(),\n",
    "        )\n",
    "\n",
    "    FigureProcessor(occurence_rate_barplot.figure).save(\n",
    "        f\"occurence_rates_with_host_star_mass_={host_star_mass}.pdf\",\n",
    "        sub_directory=figure_subdirectory,\n",
    "        save=save,\n",
    "    )\n",
    "    return occurence_rate_barplot\n",
    "\n",
    "\n",
    "for m in masses:\n",
    "    plot = barplot(occurence_rate_long_format[m], host_star_mass=m)"
   ]
  }
 ],
 "metadata": {
  "kernelspec": {
   "display_name": "Python 3 (ipykernel)",
   "language": "python",
   "name": "python3"
  },
  "language_info": {
   "codemirror_mode": {
    "name": "ipython",
    "version": 3
   },
   "file_extension": ".py",
   "mimetype": "text/x-python",
   "name": "python",
   "nbconvert_exporter": "python",
   "pygments_lexer": "ipython3",
   "version": "3.10.12"
  }
 },
 "nbformat": 4,
 "nbformat_minor": 5
}
