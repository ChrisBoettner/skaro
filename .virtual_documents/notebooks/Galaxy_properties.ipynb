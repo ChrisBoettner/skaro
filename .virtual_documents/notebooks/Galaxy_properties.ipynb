%load_ext autoreload
%autoreload 2
%matplotlib inline


# load local version of gallifrey, before pip installed version, for debugging
import pathlib
import sys
import os

sys.path.append(str(pathlib.Path(os.getcwd()).parent.joinpath("src")))


import yt
import numpy as np
import pandas as pd
import matplotlib.pyplot as plt
import seaborn as sns

from gallifrey.setup import data_setup
from gallifrey.utilities.dataframe import aggregated_dataframe, rename_labels
from gallifrey.visualization.visualization_utils import (
    set_plot_defaults,
    get_palette,
    FigureProcessor,
)





snapshot = 127
resolution = 4096
sim_id = "09_18"


ds, mw, stellar_model, imf, planet_model, path = data_setup(
    snapshot=snapshot,
    resolution=resolution,
    sim_id=sim_id,
)





set_plot_defaults()
figure_directory = "Galaxy_properties"





radius = 80
sphere_data = mw.sphere(radius=(radius, "kpc"))





print(
    "Total Stellar Mass : {:.2f} * 10^10 Msun".format(
        np.sum(sphere_data["stars", "Masses"].to("Msun")).value / 1e10
    )
)





metallicity_profile = yt.create_profile(
    sphere_data,
    [("stars", "particle_radius")],
    fields=[("stars", "[Fe/H]")],
    units={("stars", "particle_radius"): "kpc"},
    weight_field=("stars", "total_number"),
)
data = pd.DataFrame(
    np.array([metallicity_profile.x, metallicity_profile["stars", "[Fe/H]"]]).T,
    columns=["Distance (kpc)", "[Fe/H]"],
)


fit_range = (2, 15)

metallicity_gradient = np.polyfit(
    *np.array(data[data["Distance (kpc)"].between(*fit_range)]).T, 1
)[0]
print(f"Metallicity Gradient: {metallicity_gradient} dex/kpc")


fig, ax = plt.subplots()
sns.regplot(
    data[data["Distance (kpc)"].between(*fit_range)],
    x="Distance (kpc)",
    y="[Fe/H]",
    color=get_palette()[2],
    scatter=False,
    line_kws={"linewidth": 5},
    ax=ax,
)
sns.scatterplot(
    data[data["Distance (kpc)"].between(0.2, 18)],
    x="Distance (kpc)",
    y="[Fe/H]",
    color=get_palette()[0],
    s=150,
    ax=ax,
)



