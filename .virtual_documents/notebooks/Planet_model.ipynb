


%load_ext autoreload
%autoreload 2
%matplotlib inline


# load local version of gallifrey, before pip installed version, for debugging
import pathlib
import sys
import os

sys.path.append(str(pathlib.Path(os.getcwd()).parent.joinpath("src")))


import numpy as np
import pandas as pd
import matplotlib.pyplot as plt
import seaborn as sns

from gallifrey.planets import PlanetModel
from gallifrey.utilities.dataframe import rename_labels
from gallifrey.visualization.visualization_utils import (
    set_plot_defaults,
    get_palette,
    FigureProcessor,
    contourplot,
)





set_plot_defaults()
figure_directory = "Planet_model"





num_samples = int(1e5)

num_embryos = 50
host_star_mass = 1

planet_model = PlanetModel(num_embryos)
population_id = planet_model.get_population_id(num_embryos, host_star_mass)

categories = [
    category
    for category in planet_model.categories
    if category not in ["Dwarf", "D-Burner"]
]
included_variables = ("log_initial_mass", "[Fe/H]")





bounds = {
    variable: planet_model.get_systems(population_id).bounds[variable]
    for variable in included_variables
}
samples = np.column_stack(
    [np.random.uniform(bound[0], bound[1], num_samples) for bound in bounds.values()]
)
samples = pd.DataFrame(samples, columns=bounds.keys())





prediction_parameter_dict = {
    "categories": categories,
    "host_star_mass": host_star_mass,
    "variables": samples,
    "return_full": False,
}

full_model_pred = planet_model.prediction(**prediction_parameter_dict)
reduced_model_pred = planet_model.prediction(
    **prediction_parameter_dict, included_variables=included_variables
)


full_model_pred.describe()


reduced_model_pred.describe()





# recreate original sample
original_variables = planet_model.get_systems(population_id).variables
original_sample = planet_model.prediction(
    categories,
    host_star_mass,
    variables=original_variables,
    return_full=True,
    neighbors=1,
)


# checking for optimal number of neighbors using k-fold cross-validation
from sklearn.model_selection import train_test_split, cross_val_score, GridSearchCV
from sklearn.neighbors import KNeighborsRegressor
from sklearn.preprocessing import StandardScaler

X = original_sample[list(included_variables)]
X_scaled = StandardScaler().fit_transform(X)
y = original_sample[categories]

# perform hyperparameter optimization using cross validation on data
hyperparameter_grid = {"n_neighbors": range(1, 101), "weights": ["uniform", "distance"]}

hp_search = GridSearchCV(
    KNeighborsRegressor(), hyperparameter_grid, cv=10
)  # Using 10-fold CV
hp_search.fit(X_scaled, y)

print(f"Best parameter: {hp_search.best_params_}")





num_bins = 140
included_variables = ("[Fe/H]", "log_initial_mass")





variable_grid = planet_model.get_systems(population_id).variable_grid(
    num_bins,
    included_variables=included_variables,
    as_dataframe=True,
)

grid_results = planet_model.prediction(
    categories,
    host_star_mass,
    variables=variable_grid,
    included_variables=included_variables,
    return_full=True,
)

grid_results = planet_model.calculate_solid_mass(grid_results, return_full=True)

grid_results, variable_labels = rename_labels(grid_results)


for category in categories:
    contour_plot, axes = contourplot(
        data=grid_results,
        x=variable_labels["[Fe/H]"],
        y=variable_labels["log_initial_mass"],
        hue=category,
        reshaping_bins=num_bins,
        bin_window=4,
        additional_contours=variable_labels["log_solid_mass"],
        cmap=get_palette(reverse=True, as_cmap=True),
        colorbar_label=f"Number of {category}s",
        square_aspect_ratio=True,
        outline=True,
        prune_lowest=True,
        contour_label_fmt=lambda log_solid_mass: "%1.1f" % (10**log_solid_mass),
        kws={"alpha": 0.9},
        okws={"linewidths": 3},
        ackws={
            "levels": [-1.2, -0.8, -0.4, 0, 0.4],
            "colors": "white",
            "linestyles": "dashed",
            "zorder": 10,
            "alpha": 0.9,
        },
    )
    # add locations of original sample
    axes[0].scatter(
        x=original_sample["[Fe/H]"],
        y=original_sample["log_initial_mass"],
        color="grey",
        marker="x",
        alpha=0.5,
        s=30,
        zorder=9,
    )

    # save figure
    FigureProcessor(contour_plot.figure).save(
        f"contourplot_{category}.pdf", sub_directory=figure_directory
    )
