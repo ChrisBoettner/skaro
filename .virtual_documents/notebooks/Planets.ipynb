


%load_ext autoreload
%autoreload 2


# load local version of gallifrey, before pip installed version, for debugging
import pathlib
import sys
import os

sys.path.append(str(pathlib.Path(os.getcwd()).parent.joinpath("src")))


import yt
import numpy as np
import matplotlib.pyplot as plt

from gallifrey.setup import data_setup
from gallifrey.utilities.math import calculate_pca
from gallifrey.particles import rotated_dataset


snapshot = 127
resolution = 4096
sim_id = "09_18"
ngpps_id: str = "ng75"
planet_categories = [
    "Earth",
    "Super-Earth",
    "Neptunian",
    "Sub-Giant",
    "Giant",
    "D-Burner",
]
save = False


ds, mw, stellar_model, imf, planet_model = data_setup(
    snapshot=snapshot, resolution=resolution, sim_id=sim_id, ngpps_id=ngpps_id
)





from planet_maps import plot_maps
from planet_1dprofiles import plot_1dprofiles
from planet_2dprofiles import plot_2dprofiles





radius = 60
normal_vector = calculate_pca(
    mw.sphere(radius=(10, "kpc"))["stars", "Coordinates"]
).components_[-1]


sphere_data = mw.sphere(radius=ds.quan(radius, "kpc"))

rotated_disk_data = rotated_dataset(
    mw.disk(
        radius=ds.quan(radius, "kpc"), height=ds.quan(0.5, "kpc"), normal=normal_vector
    ),
    mw.centre(),
    normal_vector,
    [
        ("stars", "[Fe/H]"),
        ("stars", "number"),
        *[("stars", f"{category}") for category in planet_categories],
        *[("stars", f"star_weighted_{category}") for category in planet_categories],
    ],
)

rotated_sphere_data = rotated_dataset(
    sphere_data,
    mw.centre(),
    normal_vector,
    [
        ("stars", "[Fe/H]"),
        ("stars", "number"),
        *[("stars", f"{category}") for category in planet_categories],
        *[("stars", f"star_weighted_{category}") for category in planet_categories],
    ],
)





zplot, zfig = plot_maps(planet_categories, rotated_sphere_data, normal="z", save=save)
zplot_per_star, zfig_per_star = plot_maps(planet_categories, rotated_sphere_data, normal="z", weight_field=("stars", "number"), global_normalisation=False, save=save)





xplot, xfig = plot_maps(planet_categories, rotated_sphere_data, normal="x", save=save)
xplot_per_star, xfig_per_star = plot_maps(planet_categories, rotated_sphere_data, normal="x", weight_field=("stars", "number"), global_normalisation=False, save=save)






